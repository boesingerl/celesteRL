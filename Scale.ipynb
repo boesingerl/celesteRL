{
 "cells": [
  {
   "cell_type": "code",
   "execution_count": null,
   "id": "a4e1cce5-e49f-432c-bd40-39fa1e0d2767",
   "metadata": {
    "tags": []
   },
   "outputs": [],
   "source": [
    "%load_ext autoreload\n",
    "%autoreload 2\n",
    "\n",
    "from celeste_rl.level import *\n",
    "from celeste_rl.env import *\n",
    "from celeste_rl.models import *\n",
    "from rtgym import DEFAULT_CONFIG_DICT\n",
    "from stable_baselines3.common.monitor import Monitor\n",
    "from stable_baselines3 import PPO\n",
    "from collections import OrderedDict\n",
    "\n",
    "import matplotlib.pyplot as plt\n",
    "import numpy as np\n",
    "import cv2\n",
    "import gymnasium"
   ]
  },
  {
   "cell_type": "code",
   "execution_count": null,
   "id": "038f575c-8a71-4d53-a856-b8c8bfb242a7",
   "metadata": {
    "tags": []
   },
   "outputs": [],
   "source": [
    "# In[10]:\n",
    "\n",
    "my_config = DEFAULT_CONFIG_DICT\n",
    "my_config[\"interface\"] = CelesteGym\n",
    "my_config[\"time_step_duration\"] = 0.04\n",
    "my_config[\"start_obs_capture\"] = 0.04\n",
    "my_config[\"time_step_timeout_factor\"] = 1.0\n",
    "my_config[\"ep_max_length\"] = 1_000_000\n",
    "my_config[\"act_buf_len\"] = 4\n",
    "my_config[\"reset_act_buf\"] = False\n",
    "my_config[\"benchmark\"] = True\n",
    "my_config[\"benchmark_polyak\"] = 0.2\n",
    "\n",
    "run = wandb.init(\n",
    "    project=\"celesterl\",\n",
    "    config=my_config,\n",
    "    sync_tensorboard=True,  # auto-upload sb3's tensorboard metrics\n",
    "    monitor_gym=True,  # auto-upload the videos of agents playing the game\n",
    "    save_code=True,  # optional\n",
    ")\n",
    "\n",
    "env = gymnasium.make(\"real-time-gym-v1\", config=my_config)\n",
    "\n",
    "wrapenv = Monitor(FlattenerEnv(env))\n",
    "model = PPO(\"MultiInputPolicy\",\n",
    "            wrapenv,\n",
    "            n_steps=2048,\n",
    "            learning_rate=5e-3,\n",
    "            policy_kwargs=dict(normalize_images=False,\n",
    "                              features_extractor_class=CustomCombinedExtractor),\n",
    "            verbose=1,\n",
    "            device='cpu',\n",
    "            tensorboard_log=\"./celeste_tensorboard/\")\n",
    "\n",
    "for i in range(10):\n",
    "\n",
    "    model.learn(100_000)\n",
    "    \n",
    "    model.save(f'model_{i}.sav')\n",
    "\n"
   ]
  }
 ],
 "metadata": {
  "kernelspec": {
   "display_name": "Python 3 (ipykernel)",
   "language": "python",
   "name": "python3"
  },
  "language_info": {
   "codemirror_mode": {
    "name": "ipython",
    "version": 3
   },
   "file_extension": ".py",
   "mimetype": "text/x-python",
   "name": "python",
   "nbconvert_exporter": "python",
   "pygments_lexer": "ipython3",
   "version": "3.8.0"
  }
 },
 "nbformat": 4,
 "nbformat_minor": 5
}
