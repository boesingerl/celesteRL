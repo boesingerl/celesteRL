{
 "cells": [
  {
   "cell_type": "code",
   "execution_count": 1,
   "id": "a4e1cce5-e49f-432c-bd40-39fa1e0d2767",
   "metadata": {
    "tags": []
   },
   "outputs": [],
   "source": [
    "%load_ext autoreload\n",
    "%autoreload 2\n",
    "\n",
    "from celeste_rl.level import *\n",
    "from celeste_rl.env import *\n",
    "from celeste_rl.models import *\n",
    "from rtgym import DEFAULT_CONFIG_DICT\n",
    "from stable_baselines3.common.monitor import Monitor\n",
    "from stable_baselines3 import PPO\n",
    "\n",
    "import matplotlib.pyplot as plt\n",
    "import numpy as np\n",
    "import cv2\n",
    "import gymnasium"
   ]
  },
  {
   "cell_type": "code",
   "execution_count": 21,
   "id": "038f575c-8a71-4d53-a856-b8c8bfb242a7",
   "metadata": {
    "tags": []
   },
   "outputs": [
    {
     "name": "stderr",
     "output_type": "stream",
     "text": [
      "Exception ignored in: <function Context.__del__ at 0x7f0f5e26a430>\n",
      "Traceback (most recent call last):\n",
      "  File \"/home/leopaul/mambaforge/envs/zmq/lib/python3.8/site-packages/zmq/sugar/context.py\", line 151, in __del__\n",
      "    self.destroy()\n",
      "  File \"/home/leopaul/mambaforge/envs/zmq/lib/python3.8/site-packages/zmq/sugar/context.py\", line 333, in destroy\n",
      "    self.term()\n",
      "  File \"/home/leopaul/mambaforge/envs/zmq/lib/python3.8/site-packages/zmq/sugar/context.py\", line 275, in term\n",
      "    super().term()\n",
      "  File \"zmq/backend/cython/context.pyx\", line 83, in zmq.backend.cython.context.Context.term\n",
      "  File \"zmq/backend/cython/checkrc.pxd\", line 13, in zmq.backend.cython.checkrc._check_rc\n",
      "KeyboardInterrupt: \n"
     ]
    },
    {
     "ename": "AttributeError",
     "evalue": "type object 'LevelRenderer' has no attribute 'VISION_SIZE'",
     "output_type": "error",
     "traceback": [
      "\u001b[0;31m---------------------------------------------------------------------------\u001b[0m",
      "\u001b[0;31mAttributeError\u001b[0m                            Traceback (most recent call last)",
      "Cell \u001b[0;32mIn[21], line 24\u001b[0m\n\u001b[1;32m     12\u001b[0m my_config[\u001b[38;5;124m\"\u001b[39m\u001b[38;5;124mbenchmark_polyak\u001b[39m\u001b[38;5;124m\"\u001b[39m] \u001b[38;5;241m=\u001b[39m \u001b[38;5;241m0.2\u001b[39m\n\u001b[1;32m     14\u001b[0m \u001b[38;5;66;03m# run = wandb.init(\u001b[39;00m\n\u001b[1;32m     15\u001b[0m \u001b[38;5;66;03m#     project=\"celesterl\",\u001b[39;00m\n\u001b[1;32m     16\u001b[0m \u001b[38;5;66;03m#     config=my_config,\u001b[39;00m\n\u001b[0;32m   (...)\u001b[0m\n\u001b[1;32m     19\u001b[0m \u001b[38;5;66;03m#     save_code=True,  # optional\u001b[39;00m\n\u001b[1;32m     20\u001b[0m \u001b[38;5;66;03m# )\u001b[39;00m\n\u001b[0;32m---> 24\u001b[0m env \u001b[38;5;241m=\u001b[39m \u001b[43mgymnasium\u001b[49m\u001b[38;5;241;43m.\u001b[39;49m\u001b[43mmake\u001b[49m\u001b[43m(\u001b[49m\u001b[38;5;124;43m\"\u001b[39;49m\u001b[38;5;124;43mreal-time-gym-v1\u001b[39;49m\u001b[38;5;124;43m\"\u001b[39;49m\u001b[43m,\u001b[49m\u001b[43m \u001b[49m\u001b[43mconfig\u001b[49m\u001b[38;5;241;43m=\u001b[39;49m\u001b[43mmy_config\u001b[49m\u001b[43m)\u001b[49m\n\u001b[1;32m     25\u001b[0m wrapenv \u001b[38;5;241m=\u001b[39m Monitor(CustomEnv(env))\n\u001b[1;32m     26\u001b[0m obs_space \u001b[38;5;241m=\u001b[39m env\u001b[38;5;241m.\u001b[39mobservation_space\n",
      "File \u001b[0;32m~/mambaforge/envs/zmq/lib/python3.8/site-packages/gymnasium/envs/registration.py:801\u001b[0m, in \u001b[0;36mmake\u001b[0;34m(id, max_episode_steps, autoreset, apply_api_compatibility, disable_env_checker, **kwargs)\u001b[0m\n\u001b[1;32m    798\u001b[0m     render_mode \u001b[38;5;241m=\u001b[39m \u001b[38;5;28;01mNone\u001b[39;00m\n\u001b[1;32m    800\u001b[0m \u001b[38;5;28;01mtry\u001b[39;00m:\n\u001b[0;32m--> 801\u001b[0m     env \u001b[38;5;241m=\u001b[39m \u001b[43menv_creator\u001b[49m\u001b[43m(\u001b[49m\u001b[38;5;241;43m*\u001b[39;49m\u001b[38;5;241;43m*\u001b[39;49m\u001b[43menv_spec_kwargs\u001b[49m\u001b[43m)\u001b[49m\n\u001b[1;32m    802\u001b[0m \u001b[38;5;28;01mexcept\u001b[39;00m \u001b[38;5;167;01mTypeError\u001b[39;00m \u001b[38;5;28;01mas\u001b[39;00m e:\n\u001b[1;32m    803\u001b[0m     \u001b[38;5;28;01mif\u001b[39;00m (\n\u001b[1;32m    804\u001b[0m         \u001b[38;5;28mstr\u001b[39m(e)\u001b[38;5;241m.\u001b[39mfind(\u001b[38;5;124m\"\u001b[39m\u001b[38;5;124mgot an unexpected keyword argument \u001b[39m\u001b[38;5;124m'\u001b[39m\u001b[38;5;124mrender_mode\u001b[39m\u001b[38;5;124m'\u001b[39m\u001b[38;5;124m\"\u001b[39m) \u001b[38;5;241m>\u001b[39m\u001b[38;5;241m=\u001b[39m \u001b[38;5;241m0\u001b[39m\n\u001b[1;32m    805\u001b[0m         \u001b[38;5;129;01mand\u001b[39;00m apply_human_rendering\n\u001b[1;32m    806\u001b[0m     ):\n",
      "File \u001b[0;32m~/mambaforge/envs/zmq/lib/python3.8/site-packages/rtgym/envs/real_time_env.py:346\u001b[0m, in \u001b[0;36mRealTimeEnv.__init__\u001b[0;34m(self, config)\u001b[0m\n\u001b[1;32m    344\u001b[0m \u001b[38;5;28mself\u001b[39m\u001b[38;5;241m.\u001b[39mreset_act_buf \u001b[38;5;241m=\u001b[39m config[\u001b[38;5;124m\"\u001b[39m\u001b[38;5;124mreset_act_buf\u001b[39m\u001b[38;5;124m\"\u001b[39m] \u001b[38;5;28;01mif\u001b[39;00m \u001b[38;5;124m\"\u001b[39m\u001b[38;5;124mreset_act_buf\u001b[39m\u001b[38;5;124m\"\u001b[39m \u001b[38;5;129;01min\u001b[39;00m config \u001b[38;5;28;01melse\u001b[39;00m \u001b[38;5;28;01mTrue\u001b[39;00m\n\u001b[1;32m    345\u001b[0m \u001b[38;5;28mself\u001b[39m\u001b[38;5;241m.\u001b[39maction_space \u001b[38;5;241m=\u001b[39m \u001b[38;5;28mself\u001b[39m\u001b[38;5;241m.\u001b[39m_get_action_space()\n\u001b[0;32m--> 346\u001b[0m \u001b[38;5;28mself\u001b[39m\u001b[38;5;241m.\u001b[39mobservation_space \u001b[38;5;241m=\u001b[39m \u001b[38;5;28;43mself\u001b[39;49m\u001b[38;5;241;43m.\u001b[39;49m\u001b[43m_get_observation_space\u001b[49m\u001b[43m(\u001b[49m\u001b[43m)\u001b[49m\n\u001b[1;32m    347\u001b[0m \u001b[38;5;28mself\u001b[39m\u001b[38;5;241m.\u001b[39mcurrent_step \u001b[38;5;241m=\u001b[39m \u001b[38;5;241m0\u001b[39m\n\u001b[1;32m    348\u001b[0m \u001b[38;5;28mself\u001b[39m\u001b[38;5;241m.\u001b[39mtime_initialized \u001b[38;5;241m=\u001b[39m \u001b[38;5;28;01mFalse\u001b[39;00m\n",
      "File \u001b[0;32m~/mambaforge/envs/zmq/lib/python3.8/site-packages/rtgym/envs/real_time_env.py:417\u001b[0m, in \u001b[0;36mRealTimeEnv._get_observation_space\u001b[0;34m(self)\u001b[0m\n\u001b[1;32m    416\u001b[0m \u001b[38;5;28;01mdef\u001b[39;00m \u001b[38;5;21m_get_observation_space\u001b[39m(\u001b[38;5;28mself\u001b[39m):\n\u001b[0;32m--> 417\u001b[0m     t \u001b[38;5;241m=\u001b[39m \u001b[38;5;28;43mself\u001b[39;49m\u001b[38;5;241;43m.\u001b[39;49m\u001b[43minterface\u001b[49m\u001b[38;5;241;43m.\u001b[39;49m\u001b[43mget_observation_space\u001b[49m\u001b[43m(\u001b[49m\u001b[43m)\u001b[49m\n\u001b[1;32m    418\u001b[0m     \u001b[38;5;28;01mif\u001b[39;00m \u001b[38;5;28mself\u001b[39m\u001b[38;5;241m.\u001b[39mact_in_obs:\n\u001b[1;32m    419\u001b[0m         t \u001b[38;5;241m=\u001b[39m spaces\u001b[38;5;241m.\u001b[39mTuple((\u001b[38;5;241m*\u001b[39mt\u001b[38;5;241m.\u001b[39mspaces, \u001b[38;5;241m*\u001b[39m((\u001b[38;5;28mself\u001b[39m\u001b[38;5;241m.\u001b[39m_get_action_space(),) \u001b[38;5;241m*\u001b[39m \u001b[38;5;28mself\u001b[39m\u001b[38;5;241m.\u001b[39mact_buf_len)))\n",
      "File \u001b[0;32m~/celeste_test/celeste-linux/Mods/server/celeste_rl/env.py:38\u001b[0m, in \u001b[0;36mCelesteGym.get_observation_space\u001b[0;34m(self)\u001b[0m\n\u001b[1;32m     35\u001b[0m \u001b[38;5;28;01mdef\u001b[39;00m \u001b[38;5;21mget_observation_space\u001b[39m(\u001b[38;5;28mself\u001b[39m):\n\u001b[1;32m     36\u001b[0m     \u001b[38;5;28;01mreturn\u001b[39;00m spaces\u001b[38;5;241m.\u001b[39mTuple((spaces\u001b[38;5;241m.\u001b[39mBox(\n\u001b[1;32m     37\u001b[0m         low\u001b[38;5;241m=\u001b[39m\u001b[38;5;241m0\u001b[39m, high\u001b[38;5;241m=\u001b[39m\u001b[38;5;241m1\u001b[39m, shape\u001b[38;5;241m=\u001b[39m(LevelRenderer\u001b[38;5;241m.\u001b[39mmax_idx\u001b[38;5;241m+\u001b[39m\u001b[38;5;241m1\u001b[39m,\n\u001b[0;32m---> 38\u001b[0m                               \u001b[43mLevelRenderer\u001b[49m\u001b[38;5;241;43m.\u001b[39;49m\u001b[43mVISION_SIZE\u001b[49m\u001b[38;5;241m*\u001b[39mLevelRenderer\u001b[38;5;241m.\u001b[39mRESCALE,\n\u001b[1;32m     39\u001b[0m                               LevelRenderer\u001b[38;5;241m.\u001b[39mVISION_SIZE\u001b[38;5;241m*\u001b[39mLevelRenderer\u001b[38;5;241m.\u001b[39mRESCALE), dtype\u001b[38;5;241m=\u001b[39mnp\u001b[38;5;241m.\u001b[39mfloat64\n\u001b[1;32m     40\u001b[0m     ),))\n",
      "\u001b[0;31mAttributeError\u001b[0m: type object 'LevelRenderer' has no attribute 'VISION_SIZE'"
     ]
    }
   ],
   "source": [
    "# In[10]:\n",
    "\n",
    "my_config = DEFAULT_CONFIG_DICT\n",
    "my_config[\"interface\"] = CelesteGym\n",
    "my_config[\"time_step_duration\"] = 0.04\n",
    "my_config[\"start_obs_capture\"] = 0.04\n",
    "my_config[\"time_step_timeout_factor\"] = 1.0\n",
    "my_config[\"ep_max_length\"] = 1_000_000\n",
    "my_config[\"act_buf_len\"] = 4\n",
    "my_config[\"reset_act_buf\"] = False\n",
    "my_config[\"benchmark\"] = True\n",
    "my_config[\"benchmark_polyak\"] = 0.2\n",
    "\n",
    "# run = wandb.init(\n",
    "#     project=\"celesterl\",\n",
    "#     config=my_config,\n",
    "#     sync_tensorboard=True,  # auto-upload sb3's tensorboard metrics\n",
    "#     monitor_gym=True,  # auto-upload the videos of agents playing the game\n",
    "#     save_code=True,  # optional\n",
    "# )\n",
    "\n",
    "\n",
    "\n",
    "env = gymnasium.make(\"real-time-gym-v1\", config=my_config)\n",
    "wrapenv = Monitor(CustomEnv(env))\n",
    "obs_space = env.observation_space\n",
    "act_space = env.action_space\n",
    "\n",
    "model = PPO(\"CnnPolicy\",\n",
    "            wrapenv,\n",
    "            n_steps=2048,\n",
    "            learning_rate=5e-3,\n",
    "            policy_kwargs=dict(normalize_images=False),\n",
    "            verbose=1,\n",
    "            device='cpu',\n",
    "            tensorboard_log=\"./celeste_tensorboard/\")\n",
    "\n",
    "\n",
    "for i in range(10):\n",
    "\n",
    "    # model.learn(100_000, callback=CustomCallback())\n",
    "    \n",
    "    model.learn(100_000)\n",
    "    \n",
    "    model.save(f'model_{i}.sav')\n",
    "\n"
   ]
  },
  {
   "cell_type": "code",
   "execution_count": null,
   "id": "77cb4af2-3b68-47a2-9a9e-d75711ce9dd0",
   "metadata": {},
   "outputs": [],
   "source": []
  }
 ],
 "metadata": {
  "kernelspec": {
   "display_name": "Python 3 (ipykernel)",
   "language": "python",
   "name": "python3"
  },
  "language_info": {
   "codemirror_mode": {
    "name": "ipython",
    "version": 3
   },
   "file_extension": ".py",
   "mimetype": "text/x-python",
   "name": "python",
   "nbconvert_exporter": "python",
   "pygments_lexer": "ipython3",
   "version": "3.8.0"
  }
 },
 "nbformat": 4,
 "nbformat_minor": 5
}
