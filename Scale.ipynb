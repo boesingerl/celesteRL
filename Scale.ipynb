{
 "cells": [
  {
   "cell_type": "code",
   "execution_count": 1,
   "id": "a327d9e8-bb7d-4585-bde5-e9ecde585642",
   "metadata": {
    "tags": []
   },
   "outputs": [],
   "source": [
    "%load_ext autoreload\n",
    "%autoreload 2\n",
    "\n",
    "from celeste_rl.level import *\n",
    "from celeste_rl.env import *\n",
    "# from celeste_rl.models import *\n",
    "from rtgym import DEFAULT_CONFIG_DICT\n",
    "# from stable_baselines3.common.monitor import Monitor\n",
    "# from stable_baselines3 import PPO\n",
    "from collections import OrderedDict\n",
    "\n",
    "import matplotlib.pyplot as plt\n",
    "import numpy as np\n",
    "import cv2\n",
    "import gymnasium\n",
    "\n",
    "import zmq\n",
    "import numpy as np\n",
    "import matplotlib.pyplot as plt\n",
    "import cv2\n",
    "\n",
    "import PIL.Image as Image\n",
    "import io\n",
    "import json\n",
    "import base64\n",
    "\n",
    "from celeste_rl.env import CelesteImgGym\n",
    "import gymnasium as gym\n",
    "from ray.rllib.algorithms.r2d2 import R2D2, R2D2Config, R2D2TorchPolicy\n",
    "\n",
    "\n",
    "from ray.air.integrations.wandb import WandbLoggerCallback\n",
    "\n",
    "from gymnasium.envs.registration import EnvSpec\n",
    "import ray\n",
    "from gymnasium.wrappers import TimeLimit\n",
    "\n",
    "class EnvCreator:\n",
    "    \n",
    "    def __init__(self, port=7777):\n",
    "        self.port = port\n",
    "    \n",
    "    def get_env(self, config):\n",
    "        env = TimeLimit(CelesteImgGym(self.port), max_episode_steps=2000)\n",
    "        self.port += 1\n",
    "        return env\n",
    "    \n",
    "    \n",
    "from ray.tune.registry import register_env\n",
    "\n",
    "creator = EnvCreator()\n",
    "register_env(\"Celeste\", creator.get_env)"
   ]
  },
  {
   "cell_type": "code",
   "execution_count": 2,
   "id": "57413e5d-8446-4273-89e4-281ed3c6d358",
   "metadata": {
    "tags": []
   },
   "outputs": [
    {
     "data": {
      "text/plain": [
       "<ray.rllib.algorithms.r2d2.r2d2.R2D2Config at 0x7f5a1be05040>"
      ]
     },
     "execution_count": 2,
     "metadata": {},
     "output_type": "execute_result"
    }
   ],
   "source": [
    "config = R2D2Config()\n",
    "\n",
    "config.replay_buffer_config.update(\n",
    "     {\n",
    "         \"capacity\": 100000,\n",
    "         \"replay_burn_in\": 20,\n",
    "         \"type\": \"MultiAgentReplayBuffer\",\n",
    "         \"prioritized_replay\": True,\n",
    "         \"prioritized_replay_alpha\": 0.6,\n",
    "          # Beta parameter for sampling from prioritized replay buffer.\n",
    "         \"prioritized_replay_beta\": 0.4,\n",
    "         \"replay_sequence_length\":-1\n",
    "     }\n",
    ")\n",
    "\n",
    "config.model.update(use_lstm=True,\n",
    "                    lstm_cell_size=64,\n",
    "                    max_seq_len=20)\n",
    "\n",
    "config.lr = .0005\n",
    "config.num_envs_per_worker = 2\n",
    "#config.compress_observations = True\n",
    "(config\n",
    " .training(replay_buffer_config=config.replay_buffer_config)\n",
    " .resources(num_gpus=1)\n",
    " .rollouts(num_rollout_workers=1)\n",
    " .environment(\"Celeste\")\n",
    ")\n"
   ]
  },
  {
   "cell_type": "code",
   "execution_count": null,
   "id": "c655bf64-a0ff-4333-b502-ccf35a0b728a",
   "metadata": {
    "collapsed": true,
    "jupyter": {
     "outputs_hidden": true
    },
    "tags": []
   },
   "outputs": [
    {
     "data": {
      "text/html": [
       "<div class=\"tuneStatus\">\n",
       "  <div style=\"display: flex;flex-direction: row\">\n",
       "    <div style=\"display: flex;flex-direction: column;\">\n",
       "      <h3>Tune Status</h3>\n",
       "      <table>\n",
       "<tbody>\n",
       "<tr><td>Current time:</td><td>2023-05-10 12:00:38</td></tr>\n",
       "<tr><td>Running for: </td><td>00:03:07.49        </td></tr>\n",
       "<tr><td>Memory:      </td><td>18.9/31.2 GiB      </td></tr>\n",
       "</tbody>\n",
       "</table>\n",
       "    </div>\n",
       "    <div class=\"vDivider\"></div>\n",
       "    <div class=\"systemInfo\">\n",
       "      <h3>System Info</h3>\n",
       "      Using FIFO scheduling algorithm.<br>Logical resource usage: 2.0/24 CPUs, 1.0/1 GPUs (0.0/1.0 accelerator_type:G)\n",
       "    </div>\n",
       "    \n",
       "  </div>\n",
       "  <div class=\"hDivider\"></div>\n",
       "  <div class=\"trialStatus\">\n",
       "    <h3>Trial Status</h3>\n",
       "    <table>\n",
       "<thead>\n",
       "<tr><th>Trial name              </th><th>status  </th><th>loc                </th><th style=\"text-align: right;\">  iter</th><th style=\"text-align: right;\">  total time (s)</th><th style=\"text-align: right;\">    ts</th><th style=\"text-align: right;\">  reward</th><th style=\"text-align: right;\">  episode_reward_max</th><th style=\"text-align: right;\">  episode_reward_min</th><th style=\"text-align: right;\">  episode_len_mean</th></tr>\n",
       "</thead>\n",
       "<tbody>\n",
       "<tr><td>R2D2_Celeste_1470c_00000</td><td>RUNNING </td><td>192.168.1.10:991494</td><td style=\"text-align: right;\">    33</td><td style=\"text-align: right;\">         169.753</td><td style=\"text-align: right;\">100144</td><td style=\"text-align: right;\"> 467.475</td><td style=\"text-align: right;\">             1931.21</td><td style=\"text-align: right;\">               31.08</td><td style=\"text-align: right;\">            1283.9</td></tr>\n",
       "</tbody>\n",
       "</table>\n",
       "  </div>\n",
       "</div>\n",
       "<style>\n",
       ".tuneStatus {\n",
       "  color: var(--jp-ui-font-color1);\n",
       "}\n",
       ".tuneStatus .systemInfo {\n",
       "  display: flex;\n",
       "  flex-direction: column;\n",
       "}\n",
       ".tuneStatus td {\n",
       "  white-space: nowrap;\n",
       "}\n",
       ".tuneStatus .trialStatus {\n",
       "  display: flex;\n",
       "  flex-direction: column;\n",
       "}\n",
       ".tuneStatus h3 {\n",
       "  font-weight: bold;\n",
       "}\n",
       ".tuneStatus .hDivider {\n",
       "  border-bottom-width: var(--jp-border-width);\n",
       "  border-bottom-color: var(--jp-border-color0);\n",
       "  border-bottom-style: solid;\n",
       "}\n",
       ".tuneStatus .vDivider {\n",
       "  border-left-width: var(--jp-border-width);\n",
       "  border-left-color: var(--jp-border-color0);\n",
       "  border-left-style: solid;\n",
       "  margin: 0.5em 1em 0.5em 1em;\n",
       "}\n",
       "</style>\n"
      ],
      "text/plain": [
       "<IPython.core.display.HTML object>"
      ]
     },
     "metadata": {},
     "output_type": "display_data"
    },
    {
     "name": "stderr",
     "output_type": "stream",
     "text": [
      "2023-05-10 11:57:31,455\tINFO wandb.py:315 -- Already logged into W&B.\n",
      "\u001b[2m\u001b[36m(R2D2 pid=991494)\u001b[0m 2023-05-10 11:57:34,787\tWARNING algorithm_config.py:635 -- Cannot create R2D2Config from given `config_dict`! Property __stdout_file__ not supported.\n",
      "\u001b[2m\u001b[36m(R2D2 pid=991494)\u001b[0m 2023-05-10 11:57:35,415\tINFO algorithm.py:527 -- Current log_level is WARN. For more information, set 'log_level': 'INFO' / 'DEBUG' or use the -v and -vv flags.\n",
      "\u001b[2m\u001b[36m(_WandbLoggingActor pid=991497)\u001b[0m wandb: Currently logged in as: boesingerl. Use `wandb login --relogin` to force relogin\n",
      "\u001b[2m\u001b[36m(RolloutWorker pid=992099)\u001b[0m WARNING:root:RESET WITH PORT 7777\n",
      "\u001b[2m\u001b[36m(RolloutWorker pid=992099)\u001b[0m WARNING:root:RESET WITH PORT 7777\n",
      "\u001b[2m\u001b[36m(RolloutWorker pid=992099)\u001b[0m WARNING:root:RESET WITH PORT 7778\n",
      "\u001b[2m\u001b[36m(RolloutWorker pid=992099)\u001b[0m WARNING:root:RESET WITH PORT 7778\n",
      "\u001b[2m\u001b[36m(_WandbLoggingActor pid=991497)\u001b[0m wandb: wandb version 0.15.2 is available!  To upgrade, please run:\n",
      "\u001b[2m\u001b[36m(_WandbLoggingActor pid=991497)\u001b[0m wandb:  $ pip install wandb --upgrade\n",
      "\u001b[2m\u001b[36m(_WandbLoggingActor pid=991497)\u001b[0m wandb: Tracking run with wandb version 0.15.0\n",
      "\u001b[2m\u001b[36m(_WandbLoggingActor pid=991497)\u001b[0m wandb: Run data is saved locally in /home/leopaul/ray_results/R2D2_2023-05-10_11-57-31/R2D2_Celeste_1470c_00000_0_2023-05-10_11-57-31/wandb/run-20230510_115735-1470c_00000\n",
      "\u001b[2m\u001b[36m(_WandbLoggingActor pid=991497)\u001b[0m wandb: Run `wandb offline` to turn off syncing.\n",
      "\u001b[2m\u001b[36m(_WandbLoggingActor pid=991497)\u001b[0m wandb: Syncing run R2D2_Celeste_1470c_00000\n",
      "\u001b[2m\u001b[36m(_WandbLoggingActor pid=991497)\u001b[0m wandb: ⭐️ View project at https://wandb.ai/boesingerl/celesterllib\n",
      "\u001b[2m\u001b[36m(_WandbLoggingActor pid=991497)\u001b[0m wandb: 🚀 View run at https://wandb.ai/boesingerl/celesterllib/runs/1470c_00000\n",
      "\u001b[2m\u001b[36m(RolloutWorker pid=992099)\u001b[0m WARNING:root:RESET WITH PORT 7777\n",
      "\u001b[2m\u001b[36m(RolloutWorker pid=992099)\u001b[0m WARNING:root:RESET WITH PORT 7778\n",
      "\u001b[2m\u001b[36m(R2D2 pid=991494)\u001b[0m 2023-05-10 11:57:40,995\tWARNING rnn_sequencing.py:417 -- Found sequencing information in a batch that will be ignored when slicing. Ignore this warning if you know what you are doing.\n",
      "\u001b[2m\u001b[36m(RolloutWorker pid=992099)\u001b[0m WARNING:root:RESET WITH PORT 7777\n",
      "\u001b[2m\u001b[36m(RolloutWorker pid=992099)\u001b[0m WARNING:root:RESET WITH PORT 7777\n",
      "\u001b[2m\u001b[36m(RolloutWorker pid=992099)\u001b[0m WARNING:root:RESET WITH PORT 7778\n",
      "\u001b[2m\u001b[36m(RolloutWorker pid=992099)\u001b[0m WARNING:root:RESET WITH PORT 7778\n"
     ]
    },
    {
     "data": {
      "text/html": [
       "<div class=\"trialProgress\">\n",
       "  <h3>Trial Progress</h3>\n",
       "  <table>\n",
       "<thead>\n",
       "<tr><th>Trial name              </th><th style=\"text-align: right;\">  agent_timesteps_total</th><th>connector_metrics                                                                                                                                              </th><th>counters                                                                                                                                                                                         </th><th>custom_metrics  </th><th>date               </th><th>done  </th><th style=\"text-align: right;\">  episode_len_mean</th><th>episode_media  </th><th style=\"text-align: right;\">  episode_reward_max</th><th style=\"text-align: right;\">  episode_reward_mean</th><th style=\"text-align: right;\">  episode_reward_min</th><th style=\"text-align: right;\">  episodes_this_iter</th><th style=\"text-align: right;\">  episodes_total</th><th>hostname  </th><th>info  </th><th style=\"text-align: right;\">  iterations_since_restore</th><th>node_ip     </th><th style=\"text-align: right;\">  num_agent_steps_sampled</th><th style=\"text-align: right;\">  num_agent_steps_trained</th><th style=\"text-align: right;\">  num_env_steps_sampled</th><th style=\"text-align: right;\">  num_env_steps_sampled_this_iter</th><th style=\"text-align: right;\">  num_env_steps_trained</th><th style=\"text-align: right;\">  num_env_steps_trained_this_iter</th><th style=\"text-align: right;\">  num_faulty_episodes</th><th style=\"text-align: right;\">  num_healthy_workers</th><th style=\"text-align: right;\">  num_in_flight_async_reqs</th><th style=\"text-align: right;\">  num_remote_worker_restarts</th><th style=\"text-align: right;\">  num_steps_trained_this_iter</th><th>perf                                                                                                                            </th><th style=\"text-align: right;\">   pid</th><th>policy_reward_max  </th><th>policy_reward_mean  </th><th>policy_reward_min  </th><th>sampler_perf                                                                                                                                                                                                     </th><th>sampler_results                                                                                                                                                                                                                                                                                                                                                                                                                                                                                                                                                                                                                                                                                                                                                                                                                                                                                                                                                                                                                                                                                                                                                                                                                                                                                                                                                                                                                                                                                                                                                                                                                                                                                                                                                                                                                                                                                                                                                                                                                                                                                                                                                                                                                                                                                                                                                                                                                                                                                                                                                                                                                                                                                                                                                                                                                                                     </th><th style=\"text-align: right;\">  time_since_restore</th><th style=\"text-align: right;\">  time_this_iter_s</th><th style=\"text-align: right;\">  time_total_s</th><th>timers                                                                                                                                                                                                         </th><th style=\"text-align: right;\">  timestamp</th><th style=\"text-align: right;\">  timesteps_total</th><th style=\"text-align: right;\">  training_iteration</th><th>trial_id   </th></tr>\n",
       "</thead>\n",
       "<tbody>\n",
       "<tr><td>R2D2_Celeste_1470c_00000</td><td style=\"text-align: right;\">                 104144</td><td>{&#x27;ObsPreprocessorConnector_ms&#x27;: 0.022302865982055664, &#x27;StateBufferConnector_ms&#x27;: 0.003920793533325195, &#x27;ViewRequirementAgentConnector_ms&#x27;: 0.09134739637374878}</td><td>{&#x27;num_env_steps_sampled&#x27;: 104144, &#x27;num_env_steps_trained&#x27;: 39310, &#x27;num_agent_steps_sampled&#x27;: 104144, &#x27;num_agent_steps_trained&#x27;: 39310, &#x27;last_target_update_ts&#x27;: 104144, &#x27;num_target_updates&#x27;: 34}</td><td>{}              </td><td>2023-05-10_12-00-40</td><td>False </td><td style=\"text-align: right;\">            1301.8</td><td>{}             </td><td style=\"text-align: right;\">             1931.21</td><td style=\"text-align: right;\">              469.695</td><td style=\"text-align: right;\">               31.08</td><td style=\"text-align: right;\">                   2</td><td style=\"text-align: right;\">              80</td><td>pop-os    </td><td>{&#x27;learner&#x27;: {&#x27;default_policy&#x27;: {&#x27;custom_metrics&#x27;: {}, &#x27;learner_stats&#x27;: {&#x27;cur_lr&#x27;: 0.0005, &#x27;total_loss&#x27;: 0.03685312718153, &#x27;mean_q&#x27;: 16.08373260498047, &#x27;min_q&#x27;: 12.88900375366211, &#x27;max_q&#x27;: 16.165197372436523, &#x27;mean_td_error&#x27;: -0.05734441801905632}, &#x27;model&#x27;: {}, &#x27;num_grad_updates_lifetime&#x27;: 39.0, &#x27;diff_num_grad_updates_vs_sampler_policy&#x27;: 38.0, &#x27;td_error&#x27;: array([-0.03346482, -0.01320433,  0.00754919,  0.00945047, -0.01887727,\n",
       "        0.01334885, -0.0153278 , -0.03615807, -0.07795033,  0.01189315,\n",
       "       -0.01816833,  0.00750674,  0.01013208, -0.01447472,  0.000608  ,\n",
       "       -0.06044222, -0.07684209, -0.08711135, -0.02270748, -0.1264082 ,\n",
       "       -0.02058949, -0.05738202, -0.01354227,  0.0104309 , -0.07669415],\n",
       "      dtype=float32), &#x27;mean_td_error&#x27;: -0.027937021106481552}}, &#x27;num_env_steps_sampled&#x27;: 104144, &#x27;num_env_steps_trained&#x27;: 39310, &#x27;num_agent_steps_sampled&#x27;: 104144, &#x27;num_agent_steps_trained&#x27;: 39310, &#x27;last_target_update_ts&#x27;: 104144, &#x27;num_target_updates&#x27;: 34}       </td><td style=\"text-align: right;\">                        34</td><td>192.168.1.10</td><td style=\"text-align: right;\">                   104144</td><td style=\"text-align: right;\">                    39310</td><td style=\"text-align: right;\">                 104144</td><td style=\"text-align: right;\">                             4000</td><td style=\"text-align: right;\">                  39310</td><td style=\"text-align: right;\">                             1000</td><td style=\"text-align: right;\">                    0</td><td style=\"text-align: right;\">                    1</td><td style=\"text-align: right;\">                         0</td><td style=\"text-align: right;\">                           0</td><td style=\"text-align: right;\">                         1000</td><td>{&#x27;cpu_util_percent&#x27;: 12.575, &#x27;ram_util_percent&#x27;: 60.45, &#x27;gpu_util_percent0&#x27;: 0.18375, &#x27;vram_util_percent0&#x27;: 0.19077555338541669}</td><td style=\"text-align: right;\">991494</td><td>{}                 </td><td>{}                  </td><td>{}                 </td><td>{&#x27;mean_raw_obs_processing_ms&#x27;: 0.43012155228121884, &#x27;mean_inference_ms&#x27;: 2.256091286841127, &#x27;mean_action_processing_ms&#x27;: 0.13326942511310283, &#x27;mean_env_wait_ms&#x27;: 0.46890258786106465, &#x27;mean_env_render_ms&#x27;: 0.0}</td><td>{&#x27;episode_reward_max&#x27;: 1931.2099999999893, &#x27;episode_reward_min&#x27;: 31.080000000000013, &#x27;episode_reward_mean&#x27;: 469.6949375000002, &#x27;episode_len_mean&#x27;: 1301.8, &#x27;episode_media&#x27;: {}, &#x27;episodes_this_iter&#x27;: 2, &#x27;policy_reward_min&#x27;: {}, &#x27;policy_reward_max&#x27;: {}, &#x27;policy_reward_mean&#x27;: {}, &#x27;custom_metrics&#x27;: {}, &#x27;hist_stats&#x27;: {&#x27;episode_reward&#x27;: [51.30000000000001, 31.080000000000013, 146.36999999999986, 128.3300000000001, 110.09000000000003, 319.1249999999999, 93.7900000000002, 108.4599999999999, 195.6699999999999, 576.6399999999999, 439.24000000000103, 82.00000000000001, 1228.0350000000099, 61.89, 38.839999999999975, 76.6799999999998, 46.81000000000007, 142.2750000000002, 35.50999999999997, 287.83000000000027, 267.4299999999995, 91.80999999999996, 165.52999999999992, 164.54000000000013, 141.23000000000016, 809.3400000000021, 789.4300000000013, 229.98999999999992, 162.52999999999972, 138.97000000000023, 88.15999999999997, 165.69000000000008, 103.66999999999994, 613.5300000000018, 451.3499999999998, 125.35999999999991, 315.96000000000055, 539.0799999999972, 372.01000000000124, 552.5149999999979, 172.47999999999996, 398.4450000000012, 713.1799999999965, 509.4600000000022, 500.5700000000004, 739.4699999999996, 669.5899999999989, 676.2400000000007, 556.7499999999986, 605.7000000000024, 828.3800000000012, 763.3999999999997, 819.4600000000002, 633.3600000000032, 761.2700000000025, 626.0900000000007, 671.6600000000034, 734.0599999999937, 594.3400000000057, 1111.4099999999885, 1208.470000000006, 1931.2099999999893, 316.59999999999906, 555.3300000000041, 545.0400000000008, 451.3199999999994, 546.3499999999998, 582.5200000000007, 656.6499999999988, 735.3999999999992, 588.1899999999991, 683.0100000000035, 868.4799999999998, 683.0200000000017, 604.85, 699.2199999999981, 645.8000000000051, 588.2000000000002, 616.149999999998, 496.38000000000034], &#x27;episode_lengths&#x27;: [147, 213, 679, 367, 401, 1131, 332, 371, 420, 560, 692, 287, 1233, 257, 204, 252, 209, 424, 177, 1045, 762, 268, 478, 457, 376, 2000, 765, 585, 407, 410, 245, 523, 277, 2000, 1306, 337, 1479, 2000, 2000, 2000, 376, 2000, 2000, 2000, 2000, 2000, 2000, 2000, 2000, 2000, 2000, 2000, 2000, 2000, 2000, 2000, 2000, 2000, 2000, 2000, 1170, 1792, 2000, 2000, 2000, 1353, 2000, 2000, 2000, 2000, 2000, 2000, 2000, 2000, 2000, 2000, 2000, 1377, 2000, 2000]}, &#x27;sampler_perf&#x27;: {&#x27;mean_raw_obs_processing_ms&#x27;: 0.43012155228121884, &#x27;mean_inference_ms&#x27;: 2.256091286841127, &#x27;mean_action_processing_ms&#x27;: 0.13326942511310283, &#x27;mean_env_wait_ms&#x27;: 0.46890258786106465, &#x27;mean_env_render_ms&#x27;: 0.0}, &#x27;num_faulty_episodes&#x27;: 0, &#x27;connector_metrics&#x27;: {&#x27;ObsPreprocessorConnector_ms&#x27;: 0.022302865982055664, &#x27;StateBufferConnector_ms&#x27;: 0.003920793533325195, &#x27;ViewRequirementAgentConnector_ms&#x27;: 0.09134739637374878}}</td><td style=\"text-align: right;\">             176.214</td><td style=\"text-align: right;\">           6.46159</td><td style=\"text-align: right;\">       176.214</td><td>{&#x27;training_iteration_time_ms&#x27;: 6164.567, &#x27;sample_time_ms&#x27;: 3035.39, &#x27;load_time_ms&#x27;: 3.159, &#x27;load_throughput&#x27;: 316539.3, &#x27;learn_time_ms&#x27;: 16.284, &#x27;learn_throughput&#x27;: 61409.655, &#x27;synch_weights_time_ms&#x27;: 5.123}</td><td style=\"text-align: right;\"> 1683712840</td><td style=\"text-align: right;\">           104144</td><td style=\"text-align: right;\">                  34</td><td>1470c_00000</td></tr>\n",
       "</tbody>\n",
       "</table>\n",
       "</div>\n",
       "<style>\n",
       ".trialProgress {\n",
       "  display: flex;\n",
       "  flex-direction: column;\n",
       "  color: var(--jp-ui-font-color1);\n",
       "}\n",
       ".trialProgress h3 {\n",
       "  font-weight: bold;\n",
       "}\n",
       ".trialProgress td {\n",
       "  white-space: nowrap;\n",
       "}\n",
       "</style>\n"
      ],
      "text/plain": [
       "<IPython.core.display.HTML object>"
      ]
     },
     "metadata": {},
     "output_type": "display_data"
    },
    {
     "name": "stderr",
     "output_type": "stream",
     "text": [
      "2023-05-10 11:57:47,197\tWARNING util.py:244 -- The `callbacks.on_trial_result` operation took 3.061 s, which may be a performance bottleneck.\n",
      "2023-05-10 11:57:47,199\tWARNING util.py:244 -- The `process_trial_result` operation took 3.063 s, which may be a performance bottleneck.\n",
      "2023-05-10 11:57:47,199\tWARNING util.py:244 -- Processing trial results took 3.064 s, which may be a performance bottleneck. Please consider reporting results less frequently to Ray Tune.\n",
      "2023-05-10 11:57:47,200\tWARNING util.py:244 -- The `process_trial_result` operation took 3.064 s, which may be a performance bottleneck.\n",
      "\u001b[2m\u001b[36m(RolloutWorker pid=992099)\u001b[0m WARNING:root:RESET WITH PORT 7778\n",
      "\u001b[2m\u001b[36m(RolloutWorker pid=992099)\u001b[0m WARNING:root:RESET WITH PORT 7777\n",
      "\u001b[2m\u001b[36m(RolloutWorker pid=992099)\u001b[0m WARNING:root:RESET WITH PORT 7778\n",
      "\u001b[2m\u001b[36m(RolloutWorker pid=992099)\u001b[0m WARNING:root:RESET WITH PORT 7777\n",
      "\u001b[2m\u001b[36m(RolloutWorker pid=992099)\u001b[0m WARNING:root:RESET WITH PORT 7777\n",
      "\u001b[2m\u001b[36m(RolloutWorker pid=992099)\u001b[0m WARNING:root:RESET WITH PORT 7778\n",
      "\u001b[2m\u001b[36m(RolloutWorker pid=992099)\u001b[0m WARNING:root:RESET WITH PORT 7778\n",
      "\u001b[2m\u001b[36m(RolloutWorker pid=992099)\u001b[0m WARNING:root:RESET WITH PORT 7778\n",
      "\u001b[2m\u001b[36m(RolloutWorker pid=992099)\u001b[0m WARNING:root:RESET WITH PORT 7777\n",
      "\u001b[2m\u001b[36m(RolloutWorker pid=992099)\u001b[0m WARNING:root:RESET WITH PORT 7778\n",
      "\u001b[2m\u001b[36m(RolloutWorker pid=992099)\u001b[0m WARNING:root:RESET WITH PORT 7777\n",
      "\u001b[2m\u001b[36m(RolloutWorker pid=992099)\u001b[0m WARNING:root:RESET WITH PORT 7778\n",
      "\u001b[2m\u001b[36m(RolloutWorker pid=992099)\u001b[0m WARNING:root:RESET WITH PORT 7778\n",
      "\u001b[2m\u001b[36m(RolloutWorker pid=992099)\u001b[0m WARNING:root:RESET WITH PORT 7777\n",
      "\u001b[2m\u001b[36m(RolloutWorker pid=992099)\u001b[0m WARNING:root:RESET WITH PORT 7777\n",
      "\u001b[2m\u001b[36m(RolloutWorker pid=992099)\u001b[0m WARNING:root:RESET WITH PORT 7778\n",
      "\u001b[2m\u001b[36m(RolloutWorker pid=992099)\u001b[0m WARNING:root:RESET WITH PORT 7777\n",
      "\u001b[2m\u001b[36m(RolloutWorker pid=992099)\u001b[0m WARNING:root:RESET WITH PORT 7777\n",
      "\u001b[2m\u001b[36m(RolloutWorker pid=992099)\u001b[0m WARNING:root:RESET WITH PORT 7777\n",
      "\u001b[2m\u001b[36m(RolloutWorker pid=992099)\u001b[0m WARNING:root:RESET WITH PORT 7777\n",
      "\u001b[2m\u001b[36m(RolloutWorker pid=992099)\u001b[0m WARNING:root:RESET WITH PORT 7777\n",
      "\u001b[2m\u001b[36m(RolloutWorker pid=992099)\u001b[0m WARNING:root:RESET WITH PORT 7778\n",
      "\u001b[2m\u001b[36m(RolloutWorker pid=992099)\u001b[0m WARNING:root:RESET WITH PORT 7777\n",
      "\u001b[2m\u001b[36m(RolloutWorker pid=992099)\u001b[0m WARNING:root:RESET WITH PORT 7778\n",
      "\u001b[2m\u001b[36m(RolloutWorker pid=992099)\u001b[0m WARNING:root:RESET WITH PORT 7777\n",
      "\u001b[2m\u001b[36m(RolloutWorker pid=992099)\u001b[0m WARNING:root:RESET WITH PORT 7778\n",
      "\u001b[2m\u001b[36m(RolloutWorker pid=992099)\u001b[0m WARNING:root:RESET WITH PORT 7777\n",
      "\u001b[2m\u001b[36m(RolloutWorker pid=992099)\u001b[0m WARNING:root:RESET WITH PORT 7777\n",
      "\u001b[2m\u001b[36m(RolloutWorker pid=992099)\u001b[0m WARNING:root:RESET WITH PORT 7777\n",
      "\u001b[2m\u001b[36m(RolloutWorker pid=992099)\u001b[0m WARNING:root:RESET WITH PORT 7778\n",
      "\u001b[2m\u001b[36m(RolloutWorker pid=992099)\u001b[0m WARNING:root:RESET WITH PORT 7777\n",
      "\u001b[2m\u001b[36m(RolloutWorker pid=992099)\u001b[0m WARNING:root:RESET WITH PORT 7778\n",
      "\u001b[2m\u001b[36m(RolloutWorker pid=992099)\u001b[0m WARNING:root:RESET WITH PORT 7777\n",
      "\u001b[2m\u001b[36m(RolloutWorker pid=992099)\u001b[0m WARNING:root:RESET WITH PORT 7778\n",
      "\u001b[2m\u001b[36m(RolloutWorker pid=992099)\u001b[0m WARNING:root:RESET WITH PORT 7777\n",
      "\u001b[2m\u001b[36m(RolloutWorker pid=992099)\u001b[0m WARNING:root:RESET WITH PORT 7778\n",
      "\u001b[2m\u001b[36m(RolloutWorker pid=992099)\u001b[0m WARNING:root:RESET WITH PORT 7778\n",
      "\u001b[2m\u001b[36m(RolloutWorker pid=992099)\u001b[0m WARNING:root:RESET WITH PORT 7777\n",
      "\u001b[2m\u001b[36m(RolloutWorker pid=992099)\u001b[0m WARNING:root:RESET WITH PORT 7778\n",
      "\u001b[2m\u001b[36m(RolloutWorker pid=992099)\u001b[0m WARNING:root:RESET WITH PORT 7777\n",
      "\u001b[2m\u001b[36m(RolloutWorker pid=992099)\u001b[0m WARNING:root:RESET WITH PORT 7778\n",
      "\u001b[2m\u001b[36m(RolloutWorker pid=992099)\u001b[0m WARNING:root:RESET WITH PORT 7777\n",
      "\u001b[2m\u001b[36m(RolloutWorker pid=992099)\u001b[0m WARNING:root:RESET WITH PORT 7778\n",
      "\u001b[2m\u001b[36m(RolloutWorker pid=992099)\u001b[0m WARNING:root:RESET WITH PORT 7777\n",
      "\u001b[2m\u001b[36m(RolloutWorker pid=992099)\u001b[0m WARNING:root:RESET WITH PORT 7778\n",
      "\u001b[2m\u001b[36m(RolloutWorker pid=992099)\u001b[0m WARNING:root:RESET WITH PORT 7777\n",
      "\u001b[2m\u001b[36m(RolloutWorker pid=992099)\u001b[0m WARNING:root:RESET WITH PORT 7778\n",
      "\u001b[2m\u001b[36m(RolloutWorker pid=992099)\u001b[0m WARNING:root:RESET WITH PORT 7777\n",
      "\u001b[2m\u001b[36m(RolloutWorker pid=992099)\u001b[0m WARNING:root:RESET WITH PORT 7778\n",
      "\u001b[2m\u001b[36m(RolloutWorker pid=992099)\u001b[0m WARNING:root:RESET WITH PORT 7777\n",
      "\u001b[2m\u001b[36m(RolloutWorker pid=992099)\u001b[0m WARNING:root:RESET WITH PORT 7778\n",
      "\u001b[2m\u001b[36m(RolloutWorker pid=992099)\u001b[0m WARNING:root:RESET WITH PORT 7777\n",
      "\u001b[2m\u001b[36m(RolloutWorker pid=992099)\u001b[0m WARNING:root:RESET WITH PORT 7778\n",
      "\u001b[2m\u001b[36m(RolloutWorker pid=992099)\u001b[0m WARNING:root:RESET WITH PORT 7777\n",
      "\u001b[2m\u001b[36m(RolloutWorker pid=992099)\u001b[0m WARNING:root:RESET WITH PORT 7778\n",
      "\u001b[2m\u001b[36m(RolloutWorker pid=992099)\u001b[0m WARNING:root:RESET WITH PORT 7777\n",
      "\u001b[2m\u001b[36m(RolloutWorker pid=992099)\u001b[0m WARNING:root:RESET WITH PORT 7778\n",
      "\u001b[2m\u001b[36m(RolloutWorker pid=992099)\u001b[0m WARNING:root:RESET WITH PORT 7777\n",
      "\u001b[2m\u001b[36m(RolloutWorker pid=992099)\u001b[0m WARNING:root:RESET WITH PORT 7778\n",
      "\u001b[2m\u001b[36m(RolloutWorker pid=992099)\u001b[0m WARNING:root:RESET WITH PORT 7777\n",
      "\u001b[2m\u001b[36m(RolloutWorker pid=992099)\u001b[0m WARNING:root:RESET WITH PORT 7778\n",
      "\u001b[2m\u001b[36m(RolloutWorker pid=992099)\u001b[0m WARNING:root:RESET WITH PORT 7777\n",
      "\u001b[2m\u001b[36m(RolloutWorker pid=992099)\u001b[0m WARNING:root:RESET WITH PORT 7778\n",
      "\u001b[2m\u001b[36m(RolloutWorker pid=992099)\u001b[0m WARNING:root:RESET WITH PORT 7777\n",
      "\u001b[2m\u001b[36m(RolloutWorker pid=992099)\u001b[0m WARNING:root:RESET WITH PORT 7778\n",
      "\u001b[2m\u001b[36m(RolloutWorker pid=992099)\u001b[0m WARNING:root:RESET WITH PORT 7777\n",
      "\u001b[2m\u001b[36m(RolloutWorker pid=992099)\u001b[0m WARNING:root:RESET WITH PORT 7778\n",
      "\u001b[2m\u001b[36m(RolloutWorker pid=992099)\u001b[0m WARNING:root:RESET WITH PORT 7777\n",
      "\u001b[2m\u001b[36m(RolloutWorker pid=992099)\u001b[0m WARNING:root:RESET WITH PORT 7778\n",
      "\u001b[2m\u001b[36m(RolloutWorker pid=992099)\u001b[0m WARNING:root:RESET WITH PORT 7777\n",
      "\u001b[2m\u001b[36m(RolloutWorker pid=992099)\u001b[0m WARNING:root:RESET WITH PORT 7778\n",
      "\u001b[2m\u001b[36m(RolloutWorker pid=992099)\u001b[0m WARNING:root:RESET WITH PORT 7777\n",
      "\u001b[2m\u001b[36m(RolloutWorker pid=992099)\u001b[0m WARNING:root:RESET WITH PORT 7778\n",
      "\u001b[2m\u001b[36m(RolloutWorker pid=992099)\u001b[0m WARNING:root:RESET WITH PORT 7777\n",
      "\u001b[2m\u001b[36m(RolloutWorker pid=992099)\u001b[0m WARNING:root:RESET WITH PORT 7778\n",
      "\u001b[2m\u001b[36m(RolloutWorker pid=992099)\u001b[0m WARNING:root:RESET WITH PORT 7777\n"
     ]
    }
   ],
   "source": [
    "#algo = R2D2(config=config)  \n",
    "analysis = ray.tune.run(R2D2,\n",
    "                        config=config,\n",
    "                        stop={\"training_iteration\": 10_000},\n",
    "                        checkpoint_at_end=True,\n",
    "                        callbacks=[WandbLoggerCallback('celesterllib')])"
   ]
  },
  {
   "cell_type": "code",
   "execution_count": null,
   "id": "978b0b5f-aa56-42fb-bb9b-7b757872f4f6",
   "metadata": {
    "jupyter": {
     "source_hidden": true
    },
    "tags": []
   },
   "outputs": [],
   "source": [
    "\n",
    "\n",
    "from ray.rllib.agents.dqn import DQNTrainer, DEFAULT_CONFIG as DQN_DEFAULT_CONFIG\n",
    "from ray.rllib.agents.dqn.r2d2_tf_policy import R2D2TFPolicy\n",
    "from ray.rllib.agents.dqn.r2d2_torch_policy import R2D2TorchPolicy\n",
    "from ray.rllib.agents.trainer import Trainer\n",
    "from ray.rllib.policy.policy import Policy\n",
    "from ray.rllib.utils.annotations import override\n",
    "from ray.rllib.utils.typing import TrainerConfigDict\n",
    "print(R2D2Trainer)\n",
    "\n",
    "\n",
    "R2D2_DEFAULT_CONFIG = Trainer.merge_trainer_configs(\n",
    "    DQN_DEFAULT_CONFIG,  # See keys in impala.py, which are also supported.\n",
    "    {\n",
    "        # 'env':'PongNoFrameskip-v4',\n",
    "        'env' : 'PongDeterministic-v4',\n",
    "        # Learning rate for adam optimizer.\n",
    "        \"lr\": 1e-4,\n",
    "        \n",
    "        # Discount factor.\n",
    "        \"gamma\": 0.997,\n",
    "        # Train batch size (in number of single timesteps).\n",
    "        \"train_batch_size\": 64 * 20,\n",
    "        # Adam epsilon hyper parameter\n",
    "        \"adam_epsilon\": 1e-3,\n",
    "        # Run in parallel by default.\n",
    "        \"num_workers\": 1,\n",
    "       \n",
    "        # Batch mode must be complete_episodes.\n",
    "        \"batch_mode\": \"complete_episodes\",\n",
    "\n",
    "        # === Replay buffer ===\n",
    "        \"replay_buffer_config\": {\n",
    "            # For now we don't use the new ReplayBuffer API here\n",
    "            \"_enable_replay_buffer_api\": False,\n",
    "            \"type\": \"MultiAgentReplayBuffer\",\n",
    "            \"prioritized_replay\": True,\n",
    "            \"prioritized_replay_alpha\": 0.6,\n",
    "            # Beta parameter for sampling from prioritized replay buffer.\n",
    "            \"prioritized_replay_beta\": 0.4,\n",
    "            # Epsilon to add to the TD errors when updating priorities.\n",
    "            \"prioritized_replay_eps\": 1e-6,\n",
    "            # Size of the replay buffer (in sequences, not timesteps).\n",
    "            \"capacity\": 50000,\n",
    "            'learning_starts': 10000,\n",
    "            # Set automatically: The number\n",
    "            # of contiguous environment steps to\n",
    "            # replay at once. Will be calculated via\n",
    "            # model->max_seq_len + burn_in.\n",
    "            # Do not set this to any valid value!\n",
    "            \"replay_sequence_length\": -1,\n",
    "        },\n",
    "        'model':{\n",
    "            'use_lstm':True\n",
    "        },\n",
    "\n",
    "        \"rollout_fragment_length\":4,\n",
    "        # If True, assume a zero-initialized state input (no matter where in\n",
    "        # the episode the sequence is located).\n",
    "        # If False, store the initial states along with each SampleBatch, use\n",
    "        # it (as initial state when running through the network for training),\n",
    "        # and update that initial state during training (from the internal\n",
    "        # state outputs of the immediately preceding sequence).\n",
    "        \"zero_init_states\": True,\n",
    "        # If > 0, use the `burn_in` first steps of each replay-sampled sequence\n",
    "        # (starting either from all 0.0-values if `zero_init_state=True` or\n",
    "        # from the already stored values) to calculate an even more accurate\n",
    "        # initial states for the actual sequence (starting after this burn-in\n",
    "        # window). In the burn-in case, the actual length of the sequence\n",
    "        # used for loss calculation is `n - burn_in` time steps\n",
    "        # (n=LSTM’s/attention net’s max_seq_len).\n",
    "        \"burn_in\": 0,\n",
    "\n",
    "        # Whether to use the h-function from the paper [1] to scale target\n",
    "        # values in the R2D2-loss function:\n",
    "        # h(x) = sign(x)(􏰅|x| + 1 − 1) + εx\n",
    "        \"use_h_function\": True,\n",
    "        # The epsilon parameter from the R2D2 loss function (only used\n",
    "        # if `use_h_function`=True.\n",
    "        \"h_function_epsilon\": 1e-3,\n",
    "\n",
    "        # Update the target network every `target_network_update_freq` steps.\n",
    "        \"target_network_update_freq\": 2500,\n",
    "\n",
    "        # Experimental flag.\n",
    "        # If True, the execution plan API will not be used. Instead,\n",
    "        # a Trainer's `training_iteration` method will be called as-is each\n",
    "        # training iteration.\n",
    "        \"_disable_execution_plan_api\": False,\n",
    "    },\n",
    "    _allow_unknown_configs=True,\n",
    ")\n",
    "# R2D2_DEFAULT_CONFIG['env_config']={\n",
    "#             \"parrot_shriek_range\": gym.spaces.Box(-5.0, 5.0, (1, ))\n",
    "#         }\n",
    "R2D2_DEFAULT_CONFIG['framework']='torch'\n",
    "algo = R2D2Trainer(\n",
    "    config=R2D2_DEFAULT_CONFIG)\n",
    "\n"
   ]
  },
  {
   "cell_type": "code",
   "execution_count": null,
   "id": "7576bda4-cdf1-43d0-935d-215a6b99d2a0",
   "metadata": {},
   "outputs": [],
   "source": [
    "i=0\n",
    "while True:\n",
    "    i+=1\n",
    "    results = algo.train()\n",
    "    print(f\"Iter: {i}; avg. reward={results['episode_reward_mean']}\")"
   ]
  },
  {
   "cell_type": "code",
   "execution_count": 474,
   "id": "ee2d5615-6244-400c-9348-deb0c60a543e",
   "metadata": {
    "tags": []
   },
   "outputs": [],
   "source": [
    "context = zmq.Context()\n",
    "socket = context.socket(zmq.REQ)\n",
    "socket.connect(\"tcp://localhost:7777\")\n",
    "\n",
    "socket.send_string(json.dumps([1]))\n",
    "test = socket.recv()\n"
   ]
  },
  {
   "cell_type": "code",
   "execution_count": 655,
   "id": "4196c1ba-9a70-409f-a190-d37a601a958a",
   "metadata": {
    "tags": []
   },
   "outputs": [],
   "source": [
    "socket.send_string(json.dumps([1]))\n",
    "test = socket.recv()"
   ]
  },
  {
   "cell_type": "code",
   "execution_count": 664,
   "id": "11976124-9706-4922-a1f5-43c619de6243",
   "metadata": {
    "tags": []
   },
   "outputs": [],
   "source": [
    "socket.send_string(json.dumps([0,1,0,0,0,0,0]))\n",
    "test = socket.recv()"
   ]
  },
  {
   "cell_type": "code",
   "execution_count": 639,
   "id": "cb353b2d-ac6a-4f3b-bab6-e2a16fbe3395",
   "metadata": {
    "tags": []
   },
   "outputs": [],
   "source": [
    "socket.send_string(json.dumps([0,0,0,0,1,0,0]))\n",
    "test = socket.recv()"
   ]
  },
  {
   "cell_type": "code",
   "execution_count": 768,
   "id": "4ca46e98-c0b6-4d77-8432-0810ce67b791",
   "metadata": {
    "tags": []
   },
   "outputs": [],
   "source": [
    "socket.send_string(json.dumps([1,0,0,0,0,0,0]))\n",
    "test = socket.recv()"
   ]
  },
  {
   "cell_type": "code",
   "execution_count": 318,
   "id": "1a5fc0cf-720f-4066-9724-e21c0d4b4833",
   "metadata": {
    "tags": []
   },
   "outputs": [
    {
     "data": {
      "text/plain": [
       "<matplotlib.image.AxesImage at 0x7f98d0712520>"
      ]
     },
     "execution_count": 318,
     "metadata": {},
     "output_type": "execute_result"
    },
    {
     "data": {
      "image/png": "[encoded data removed]",
      "text/plain": [
       "<Figure size 640x480 with 1 Axes>"
      ]
     },
     "metadata": {},
     "output_type": "display_data"
    }
   ],
   "source": [
    "uh = json.loads(test)[0]\n",
    "img = np.array(Image.open(io.BytesIO(base64.b64decode(uh))))[..., :3]\n",
    "plt.imshow(img)"
   ]
  },
  {
   "cell_type": "code",
   "execution_count": 8,
   "id": "e982af1c-eaa1-47ef-96b9-5e070418bcf9",
   "metadata": {
    "tags": []
   },
   "outputs": [],
   "source": [
    "from celeste_rl.env_gym import CelesteImgGym"
   ]
  },
  {
   "cell_type": "code",
   "execution_count": 9,
   "id": "b0dcde27-2284-429c-8632-97ceed357a50",
   "metadata": {
    "tags": []
   },
   "outputs": [],
   "source": [
    "env = CelesteImgGym()\n"
   ]
  },
  {
   "cell_type": "code",
   "execution_count": null,
   "id": "5e4cb87e-003d-4fb2-a934-0723f2d6a6b7",
   "metadata": {},
   "outputs": [],
   "source": [
    "l = list(test)\n",
    "\n",
    "\n",
    "\n",
    "fk = np.array(l).reshape((180,320,4))\n",
    "\n",
    "\n",
    "\n",
    "fk.dtype\n",
    "\n",
    "resized = cv2.resize(fk.astype(np.uint8), (64,64), cv2.INTER_LANCZOS4)\n",
    "\n",
    "plt.imshow(resized)\n",
    "\n",
    "plt.imshow(fk)"
   ]
  },
  {
   "cell_type": "code",
   "execution_count": null,
   "id": "866da123-16fb-4095-9faf-d3b381720f59",
   "metadata": {},
   "outputs": [],
   "source": [
    "320*180*4"
   ]
  },
  {
   "cell_type": "code",
   "execution_count": null,
   "id": "8e2f1aa2-92ae-4f1f-912b-3f5e382f2de0",
   "metadata": {},
   "outputs": [],
   "source": [
    "b"
   ]
  },
  {
   "cell_type": "code",
   "execution_count": 61,
   "id": "d2f7d74b-6b9e-43c6-a53a-77ecc4ec7049",
   "metadata": {
    "tags": []
   },
   "outputs": [
    {
     "data": {
      "text/plain": [
       "[<matplotlib.lines.Line2D at 0x7fc641285b50>]"
      ]
     },
     "execution_count": 61,
     "metadata": {},
     "output_type": "execute_result"
    },
    {
     "data": {
      "image/png": "[encoded data removed]",
      "text/plain": [
       "<Figure size 640x480 with 1 Axes>"
      ]
     },
     "metadata": {},
     "output_type": "display_data"
    }
   ],
   "source": [
    "cyclic_schedule = CyclicLR(step_size=0.166)\n",
    "ys = []\n",
    "xs = np.linspace(0, 1)\n",
    "ys = [cyclic_schedule.adapted_clr(x) for x in xs] \n",
    "plt.plot(xs,ys)"
   ]
  },
  {
   "cell_type": "code",
   "execution_count": 2,
   "id": "676ae519-7302-476d-b1db-27d6963ef582",
   "metadata": {
    "tags": []
   },
   "outputs": [],
   "source": [
    "from pytorch_grad_cam import EigenCAM, EigenGradCAM\n",
    "from pytorch_grad_cam.utils.model_targets import ClassifierOutputTarget\n",
    "from pytorch_grad_cam.utils.image import show_cam_on_image"
   ]
  },
  {
   "cell_type": "code",
   "execution_count": 3,
   "id": "e436c942-d15c-4f8d-82fa-ed42b1381de7",
   "metadata": {
    "tags": []
   },
   "outputs": [
    {
     "name": "stderr",
     "output_type": "stream",
     "text": [
      "/home/leopaul/mambaforge/envs/zmq/lib/python3.8/site-packages/gymnasium/utils/passive_env_checker.py:29: UserWarning: \u001b[33mWARN: It seems a Box observation space is an image but the `dtype` is not `np.uint8`, actual type: float32. If the Box observation space is not an image, we recommend flattening the observation to have only a 1D vector.\u001b[0m\n",
      "  logger.warn(\n",
      "/home/leopaul/mambaforge/envs/zmq/lib/python3.8/site-packages/gymnasium/utils/passive_env_checker.py:34: UserWarning: \u001b[33mWARN: It seems a Box observation space is an image but the lower and upper bounds are not [0, 255]. Actual lower bound: 0.0, upper bound: 1.0. Generally, CNN policies assume observations are within that range, so you may encounter an issue if the observation values are not.\u001b[0m\n",
      "  logger.warn(\n",
      "/home/leopaul/mambaforge/envs/zmq/lib/python3.8/site-packages/torch/nn/modules/lazy.py:180: UserWarning: Lazy modules are a new feature under heavy development so changes to the API or functionality can happen at any moment.\n",
      "  warnings.warn('Lazy modules are a new feature under heavy development '\n"
     ]
    },
    {
     "name": "stdout",
     "output_type": "stream",
     "text": [
      "Using cpu device\n",
      "Wrapping the env in a DummyVecEnv.\n"
     ]
    }
   ],
   "source": [
    "my_config = DEFAULT_CONFIG_DICT\n",
    "my_config[\"interface\"] = CelesteGym\n",
    "my_config[\"time_step_duration\"] = 0.06\n",
    "my_config[\"start_obs_capture\"] = 0.06\n",
    "my_config[\"time_step_timeout_factor\"] = 1.0\n",
    "my_config[\"ep_max_length\"] = 1_000_000\n",
    "my_config[\"act_buf_len\"] = 20\n",
    "my_config[\"reset_act_buf\"] = False\n",
    "my_config[\"benchmark\"] = True\n",
    "my_config[\"benchmark_polyak\"] = 0.2\n",
    "\n",
    "env = gymnasium.make(\"real-time-gym-v1\", config=my_config)\n",
    "\n",
    "wrapenv = Monitor(FlattenerEnv(env))\n",
    "model = PPO(\"MultiInputPolicy\",\n",
    "            wrapenv,\n",
    "            n_steps=256,\n",
    "            learning_rate=5e-3,\n",
    "            policy_kwargs=dict(normalize_images=False,\n",
    "                              features_extractor_class=CustomCombinedExtractor),\n",
    "            verbose=1,\n",
    "            device='cpu',\n",
    "            tensorboard_log=\"./celeste_tensorboard/\")"
   ]
  },
  {
   "cell_type": "code",
   "execution_count": null,
   "id": "bf06bbf2-c634-41f7-924f-e2d5ed9f2a08",
   "metadata": {
    "tags": []
   },
   "outputs": [],
   "source": [
    "# testmodel = model.policy.features_extractor.extractors.image\n",
    "# cam = EigenCAM(testmodel, [testmodel.cnn[0]])\n",
    "\n",
    "# img = wrapenv.step(np.array([0,0,0,0,0,0,0]))[0]['image']\n",
    "# input_tensor = th.tensor(img, dtype=th.float)[None, ...]\n",
    "# cam_out = cam(input_tensor)\n",
    "# rgb = LevelRenderer.cm(LevelRenderer.norm(img[0] + img.argmax(0)))\n",
    "\n",
    "# plt.imshow(show_cam_on_image(rgb[:,:,:3], cam_out[0], use_rgb=True))"
   ]
  },
  {
   "cell_type": "code",
   "execution_count": 22,
   "id": "cb361266-5d5b-4406-b1c5-53f0367488be",
   "metadata": {
    "tags": []
   },
   "outputs": [],
   "source": [
    "context = zmq.Context()\n",
    "socket = context.socket(zmq.REQ)\n",
    "socket.connect(\"tcp://localhost:7777\")\n",
    "initialized = True\n",
    "\n"
   ]
  },
  {
   "cell_type": "code",
   "execution_count": null,
   "id": "b13b2dc2-a9be-4090-be47-07abababc627",
   "metadata": {
    "tags": []
   },
   "outputs": [],
   "source": [
    "# %%timeit -n 1000 \n",
    "# fullinp = th.cat([torch_obs['image'][:, [i,LevelRenderer.ID_MAP['Player']]] for i in range(LevelRenderer.max_idx+1) if i != LevelRenderer.ID_MAP['Player']], dim=1)"
   ]
  },
  {
   "cell_type": "code",
   "execution_count": 5,
   "id": "ac89d81e-a5f8-46b7-bd65-1e9950054274",
   "metadata": {
    "tags": []
   },
   "outputs": [],
   "source": [
    "# %%prun -D learning.prof\n",
    "\n",
    "# vec_env = model.get_env()\n",
    "# obs = vec_env.reset()\n",
    "# for i in range(1000):\n",
    "#     action, _state = model.predict(obs, deterministic=True)\n",
    "#     obs, reward, done, info = vec_env.step(action)"
   ]
  },
  {
   "cell_type": "code",
   "execution_count": 24,
   "id": "038f575c-8a71-4d53-a856-b8c8bfb242a7",
   "metadata": {
    "tags": []
   },
   "outputs": [
    {
     "name": "stderr",
     "output_type": "stream",
     "text": [
      "\u001b[34m\u001b[1mwandb\u001b[0m: Currently logged in as: \u001b[33mboesingerl\u001b[0m. Use \u001b[1m`wandb login --relogin`\u001b[0m to force relogin\n"
     ]
    },
    {
     "data": {
      "text/html": [
       "Tracking run with wandb version 0.15.0"
      ],
      "text/plain": [
       "<IPython.core.display.HTML object>"
      ]
     },
     "metadata": {},
     "output_type": "display_data"
    },
    {
     "data": {
      "text/html": [
       "Run data is saved locally in <code>/home/leopaul/celesteRL/wandb/run-20230501_132741-x3hb9d3u</code>"
      ],
      "text/plain": [
       "<IPython.core.display.HTML object>"
      ]
     },
     "metadata": {},
     "output_type": "display_data"
    },
    {
     "data": {
      "text/html": [
       "Syncing run <strong><a href='https://wandb.ai/boesingerl/celesterl/runs/x3hb9d3u' target=\"_blank\">true-music-13</a></strong> to <a href='https://wandb.ai/boesingerl/celesterl' target=\"_blank\">Weights & Biases</a> (<a href='https://wandb.me/run' target=\"_blank\">docs</a>)<br/>"
      ],
      "text/plain": [
       "<IPython.core.display.HTML object>"
      ]
     },
     "metadata": {},
     "output_type": "display_data"
    },
    {
     "data": {
      "text/html": [
       " View project at <a href='https://wandb.ai/boesingerl/celesterl' target=\"_blank\">https://wandb.ai/boesingerl/celesterl</a>"
      ],
      "text/plain": [
       "<IPython.core.display.HTML object>"
      ]
     },
     "metadata": {},
     "output_type": "display_data"
    },
    {
     "data": {
      "text/html": [
       " View run at <a href='https://wandb.ai/boesingerl/celesterl/runs/x3hb9d3u' target=\"_blank\">https://wandb.ai/boesingerl/celesterl/runs/x3hb9d3u</a>"
      ],
      "text/plain": [
       "<IPython.core.display.HTML object>"
      ]
     },
     "metadata": {},
     "output_type": "display_data"
    },
    {
     "name": "stderr",
     "output_type": "stream",
     "text": [
      "/home/leopaul/mambaforge/envs/zmq/lib/python3.8/site-packages/gymnasium/utils/passive_env_checker.py:29: UserWarning: \u001b[33mWARN: It seems a Box observation space is an image but the `dtype` is not `np.uint8`, actual type: float32. If the Box observation space is not an image, we recommend flattening the observation to have only a 1D vector.\u001b[0m\n",
      "  logger.warn(\n",
      "/home/leopaul/mambaforge/envs/zmq/lib/python3.8/site-packages/gymnasium/utils/passive_env_checker.py:34: UserWarning: \u001b[33mWARN: It seems a Box observation space is an image but the lower and upper bounds are not [0, 255]. Actual lower bound: 0.0, upper bound: 1.0. Generally, CNN policies assume observations are within that range, so you may encounter an issue if the observation values are not.\u001b[0m\n",
      "  logger.warn(\n",
      "/home/leopaul/mambaforge/envs/zmq/lib/python3.8/site-packages/torch/nn/modules/lazy.py:180: UserWarning: Lazy modules are a new feature under heavy development so changes to the API or functionality can happen at any moment.\n",
      "  warnings.warn('Lazy modules are a new feature under heavy development '\n"
     ]
    },
    {
     "name": "stdout",
     "output_type": "stream",
     "text": [
      "Using cpu device\n",
      "Wrapping the env in a DummyVecEnv.\n"
     ]
    },
    {
     "name": "stderr",
     "output_type": "stream",
     "text": [
      "WARNING:root:RESET\n"
     ]
    },
    {
     "name": "stdout",
     "output_type": "stream",
     "text": [
      "Logging to ./celeste_tensorboard/PPO_41\n"
     ]
    },
    {
     "name": "stderr",
     "output_type": "stream",
     "text": [
      "/home/leopaul/mambaforge/envs/zmq/lib/python3.8/site-packages/gymnasium/utils/passive_env_checker.py:188: UserWarning: \u001b[33mWARN: The obs returned by the `reset()` method is not within the observation space.\u001b[0m\n",
      "  logger.warn(f\"{pre} is not within the observation space.\")\n",
      "/home/leopaul/mambaforge/envs/zmq/lib/python3.8/site-packages/gymnasium/utils/passive_env_checker.py:164: UserWarning: \u001b[33mWARN: The obs returned by the `reset()` method was expecting numpy array dtype to be float32, actual type: float64\u001b[0m\n",
      "  logger.warn(\n",
      "/home/leopaul/mambaforge/envs/zmq/lib/python3.8/site-packages/gymnasium/utils/passive_env_checker.py:188: UserWarning: \u001b[33mWARN: The obs returned by the `step()` method is not within the observation space.\u001b[0m\n",
      "  logger.warn(f\"{pre} is not within the observation space.\")\n",
      "/home/leopaul/mambaforge/envs/zmq/lib/python3.8/site-packages/gymnasium/utils/passive_env_checker.py:164: UserWarning: \u001b[33mWARN: The obs returned by the `step()` method was expecting numpy array dtype to be float32, actual type: float64\u001b[0m\n",
      "  logger.warn(\n",
      "/home/leopaul/mambaforge/envs/zmq/lib/python3.8/site-packages/rtgym/envs/real_time_env.py:376: UserWarning: Time-step timed out. Elapsed since last time-step: 0.05008835501212161\n",
      "  warnings.warn(f\"Time-step timed out. Elapsed since last time-step: {now - self.__t_end}\")\n",
      "/home/leopaul/mambaforge/envs/zmq/lib/python3.8/site-packages/rtgym/envs/real_time_env.py:376: UserWarning: Time-step timed out. Elapsed since last time-step: 0.13477368003805168\n",
      "  warnings.warn(f\"Time-step timed out. Elapsed since last time-step: {now - self.__t_end}\")\n",
      "/home/leopaul/mambaforge/envs/zmq/lib/python3.8/site-packages/rtgym/envs/real_time_env.py:376: UserWarning: Time-step timed out. Elapsed since last time-step: 0.04405472303915303\n",
      "  warnings.warn(f\"Time-step timed out. Elapsed since last time-step: {now - self.__t_end}\")\n",
      "/home/leopaul/mambaforge/envs/zmq/lib/python3.8/site-packages/rtgym/envs/real_time_env.py:376: UserWarning: Time-step timed out. Elapsed since last time-step: 0.05196968403470237\n",
      "  warnings.warn(f\"Time-step timed out. Elapsed since last time-step: {now - self.__t_end}\")\n",
      "/home/leopaul/mambaforge/envs/zmq/lib/python3.8/site-packages/rtgym/envs/real_time_env.py:376: UserWarning: Time-step timed out. Elapsed since last time-step: 0.08856275903235655\n",
      "  warnings.warn(f\"Time-step timed out. Elapsed since last time-step: {now - self.__t_end}\")\n",
      "/home/leopaul/mambaforge/envs/zmq/lib/python3.8/site-packages/rtgym/envs/real_time_env.py:376: UserWarning: Time-step timed out. Elapsed since last time-step: 0.06807326307171024\n",
      "  warnings.warn(f\"Time-step timed out. Elapsed since last time-step: {now - self.__t_end}\")\n",
      "/home/leopaul/mambaforge/envs/zmq/lib/python3.8/site-packages/rtgym/envs/real_time_env.py:376: UserWarning: Time-step timed out. Elapsed since last time-step: 0.28746556701662485\n",
      "  warnings.warn(f\"Time-step timed out. Elapsed since last time-step: {now - self.__t_end}\")\n",
      "/home/leopaul/mambaforge/envs/zmq/lib/python3.8/site-packages/rtgym/envs/real_time_env.py:376: UserWarning: Time-step timed out. Elapsed since last time-step: 0.06093865506409202\n",
      "  warnings.warn(f\"Time-step timed out. Elapsed since last time-step: {now - self.__t_end}\")\n",
      "/home/leopaul/mambaforge/envs/zmq/lib/python3.8/site-packages/rtgym/envs/real_time_env.py:376: UserWarning: Time-step timed out. Elapsed since last time-step: 0.15434139616263565\n",
      "  warnings.warn(f\"Time-step timed out. Elapsed since last time-step: {now - self.__t_end}\")\n",
      "WARNING:root:RESET\n",
      "/home/leopaul/mambaforge/envs/zmq/lib/python3.8/site-packages/rtgym/envs/real_time_env.py:376: UserWarning: Time-step timed out. Elapsed since last time-step: 0.04471150001336355\n",
      "  warnings.warn(f\"Time-step timed out. Elapsed since last time-step: {now - self.__t_end}\")\n",
      "/home/leopaul/mambaforge/envs/zmq/lib/python3.8/site-packages/rtgym/envs/real_time_env.py:376: UserWarning: Time-step timed out. Elapsed since last time-step: 0.12408371901256032\n",
      "  warnings.warn(f\"Time-step timed out. Elapsed since last time-step: {now - self.__t_end}\")\n",
      "/home/leopaul/mambaforge/envs/zmq/lib/python3.8/site-packages/rtgym/envs/real_time_env.py:376: UserWarning: Time-step timed out. Elapsed since last time-step: 0.05170789001567755\n",
      "  warnings.warn(f\"Time-step timed out. Elapsed since last time-step: {now - self.__t_end}\")\n",
      "/home/leopaul/mambaforge/envs/zmq/lib/python3.8/site-packages/rtgym/envs/real_time_env.py:376: UserWarning: Time-step timed out. Elapsed since last time-step: 0.06462243101850618\n",
      "  warnings.warn(f\"Time-step timed out. Elapsed since last time-step: {now - self.__t_end}\")\n",
      "/home/leopaul/mambaforge/envs/zmq/lib/python3.8/site-packages/rtgym/envs/real_time_env.py:376: UserWarning: Time-step timed out. Elapsed since last time-step: 0.10773959707876202\n",
      "  warnings.warn(f\"Time-step timed out. Elapsed since last time-step: {now - self.__t_end}\")\n",
      "/home/leopaul/mambaforge/envs/zmq/lib/python3.8/site-packages/rtgym/envs/real_time_env.py:376: UserWarning: Time-step timed out. Elapsed since last time-step: 0.21052266404149123\n",
      "  warnings.warn(f\"Time-step timed out. Elapsed since last time-step: {now - self.__t_end}\")\n",
      "/home/leopaul/mambaforge/envs/zmq/lib/python3.8/site-packages/rtgym/envs/real_time_env.py:376: UserWarning: Time-step timed out. Elapsed since last time-step: 0.0644112921145279\n",
      "  warnings.warn(f\"Time-step timed out. Elapsed since last time-step: {now - self.__t_end}\")\n",
      "WARNING:root:RESET\n",
      "/home/leopaul/mambaforge/envs/zmq/lib/python3.8/site-packages/rtgym/envs/real_time_env.py:376: UserWarning: Time-step timed out. Elapsed since last time-step: 0.1415974061237648\n",
      "  warnings.warn(f\"Time-step timed out. Elapsed since last time-step: {now - self.__t_end}\")\n",
      "/home/leopaul/mambaforge/envs/zmq/lib/python3.8/site-packages/rtgym/envs/real_time_env.py:376: UserWarning: Time-step timed out. Elapsed since last time-step: 0.1318515700259013\n",
      "  warnings.warn(f\"Time-step timed out. Elapsed since last time-step: {now - self.__t_end}\")\n",
      "WARNING:root:RESET\n",
      "/home/leopaul/mambaforge/envs/zmq/lib/python3.8/site-packages/rtgym/envs/real_time_env.py:376: UserWarning: Time-step timed out. Elapsed since last time-step: 0.0610961351194419\n",
      "  warnings.warn(f\"Time-step timed out. Elapsed since last time-step: {now - self.__t_end}\")\n",
      "/home/leopaul/mambaforge/envs/zmq/lib/python3.8/site-packages/rtgym/envs/real_time_env.py:376: UserWarning: Time-step timed out. Elapsed since last time-step: 0.20621283106447663\n",
      "  warnings.warn(f\"Time-step timed out. Elapsed since last time-step: {now - self.__t_end}\")\n",
      "WARNING:root:RESET\n",
      "/home/leopaul/mambaforge/envs/zmq/lib/python3.8/site-packages/rtgym/envs/real_time_env.py:376: UserWarning: Time-step timed out. Elapsed since last time-step: 0.07644200899812859\n",
      "  warnings.warn(f\"Time-step timed out. Elapsed since last time-step: {now - self.__t_end}\")\n",
      "WARNING:root:RESET\n",
      "/home/leopaul/mambaforge/envs/zmq/lib/python3.8/site-packages/rtgym/envs/real_time_env.py:376: UserWarning: Time-step timed out. Elapsed since last time-step: 0.2235798962210538\n",
      "  warnings.warn(f\"Time-step timed out. Elapsed since last time-step: {now - self.__t_end}\")\n",
      "/home/leopaul/mambaforge/envs/zmq/lib/python3.8/site-packages/rtgym/envs/real_time_env.py:376: UserWarning: Time-step timed out. Elapsed since last time-step: 0.08703410305315629\n",
      "  warnings.warn(f\"Time-step timed out. Elapsed since last time-step: {now - self.__t_end}\")\n",
      "/home/leopaul/mambaforge/envs/zmq/lib/python3.8/site-packages/rtgym/envs/real_time_env.py:376: UserWarning: Time-step timed out. Elapsed since last time-step: 0.1042121740319999\n",
      "  warnings.warn(f\"Time-step timed out. Elapsed since last time-step: {now - self.__t_end}\")\n",
      "/home/leopaul/mambaforge/envs/zmq/lib/python3.8/site-packages/rtgym/envs/real_time_env.py:376: UserWarning: Time-step timed out. Elapsed since last time-step: 0.07777470101427753\n",
      "  warnings.warn(f\"Time-step timed out. Elapsed since last time-step: {now - self.__t_end}\")\n",
      "/home/leopaul/mambaforge/envs/zmq/lib/python3.8/site-packages/rtgym/envs/real_time_env.py:376: UserWarning: Time-step timed out. Elapsed since last time-step: 0.1229441740870243\n",
      "  warnings.warn(f\"Time-step timed out. Elapsed since last time-step: {now - self.__t_end}\")\n",
      "/home/leopaul/mambaforge/envs/zmq/lib/python3.8/site-packages/rtgym/envs/real_time_env.py:376: UserWarning: Time-step timed out. Elapsed since last time-step: 0.1314772980113048\n",
      "  warnings.warn(f\"Time-step timed out. Elapsed since last time-step: {now - self.__t_end}\")\n",
      "/home/leopaul/mambaforge/envs/zmq/lib/python3.8/site-packages/rtgym/envs/real_time_env.py:376: UserWarning: Time-step timed out. Elapsed since last time-step: 0.08057504903990775\n",
      "  warnings.warn(f\"Time-step timed out. Elapsed since last time-step: {now - self.__t_end}\")\n",
      "WARNING:root:RESET\n",
      "/home/leopaul/mambaforge/envs/zmq/lib/python3.8/site-packages/rtgym/envs/real_time_env.py:376: UserWarning: Time-step timed out. Elapsed since last time-step: 0.10855960205662996\n",
      "  warnings.warn(f\"Time-step timed out. Elapsed since last time-step: {now - self.__t_end}\")\n",
      "/home/leopaul/mambaforge/envs/zmq/lib/python3.8/site-packages/rtgym/envs/real_time_env.py:376: UserWarning: Time-step timed out. Elapsed since last time-step: 0.13911692809779197\n",
      "  warnings.warn(f\"Time-step timed out. Elapsed since last time-step: {now - self.__t_end}\")\n",
      "/home/leopaul/mambaforge/envs/zmq/lib/python3.8/site-packages/rtgym/envs/real_time_env.py:376: UserWarning: Time-step timed out. Elapsed since last time-step: 0.07965197616431396\n",
      "  warnings.warn(f\"Time-step timed out. Elapsed since last time-step: {now - self.__t_end}\")\n",
      "/home/leopaul/mambaforge/envs/zmq/lib/python3.8/site-packages/rtgym/envs/real_time_env.py:376: UserWarning: Time-step timed out. Elapsed since last time-step: 0.17707284705829807\n",
      "  warnings.warn(f\"Time-step timed out. Elapsed since last time-step: {now - self.__t_end}\")\n",
      "/home/leopaul/mambaforge/envs/zmq/lib/python3.8/site-packages/rtgym/envs/real_time_env.py:376: UserWarning: Time-step timed out. Elapsed since last time-step: 0.10347697825636715\n",
      "  warnings.warn(f\"Time-step timed out. Elapsed since last time-step: {now - self.__t_end}\")\n",
      "/home/leopaul/mambaforge/envs/zmq/lib/python3.8/site-packages/rtgym/envs/real_time_env.py:376: UserWarning: Time-step timed out. Elapsed since last time-step: 0.06304249317327049\n",
      "  warnings.warn(f\"Time-step timed out. Elapsed since last time-step: {now - self.__t_end}\")\n",
      "/home/leopaul/mambaforge/envs/zmq/lib/python3.8/site-packages/rtgym/envs/real_time_env.py:376: UserWarning: Time-step timed out. Elapsed since last time-step: 0.10026364201621618\n",
      "  warnings.warn(f\"Time-step timed out. Elapsed since last time-step: {now - self.__t_end}\")\n",
      "/home/leopaul/mambaforge/envs/zmq/lib/python3.8/site-packages/rtgym/envs/real_time_env.py:376: UserWarning: Time-step timed out. Elapsed since last time-step: 0.15703484203550033\n",
      "  warnings.warn(f\"Time-step timed out. Elapsed since last time-step: {now - self.__t_end}\")\n",
      "/home/leopaul/mambaforge/envs/zmq/lib/python3.8/site-packages/rtgym/envs/real_time_env.py:376: UserWarning: Time-step timed out. Elapsed since last time-step: 0.07975680301024113\n",
      "  warnings.warn(f\"Time-step timed out. Elapsed since last time-step: {now - self.__t_end}\")\n",
      "/home/leopaul/mambaforge/envs/zmq/lib/python3.8/site-packages/rtgym/envs/real_time_env.py:376: UserWarning: Time-step timed out. Elapsed since last time-step: 0.10616155006573536\n",
      "  warnings.warn(f\"Time-step timed out. Elapsed since last time-step: {now - self.__t_end}\")\n",
      "/home/leopaul/mambaforge/envs/zmq/lib/python3.8/site-packages/rtgym/envs/real_time_env.py:376: UserWarning: Time-step timed out. Elapsed since last time-step: 0.065204426064156\n",
      "  warnings.warn(f\"Time-step timed out. Elapsed since last time-step: {now - self.__t_end}\")\n",
      "/home/leopaul/mambaforge/envs/zmq/lib/python3.8/site-packages/rtgym/envs/real_time_env.py:376: UserWarning: Time-step timed out. Elapsed since last time-step: 0.15295637806411833\n",
      "  warnings.warn(f\"Time-step timed out. Elapsed since last time-step: {now - self.__t_end}\")\n",
      "WARNING:root:RESET\n",
      "/home/leopaul/mambaforge/envs/zmq/lib/python3.8/site-packages/rtgym/envs/real_time_env.py:376: UserWarning: Time-step timed out. Elapsed since last time-step: 0.08440483010781463\n",
      "  warnings.warn(f\"Time-step timed out. Elapsed since last time-step: {now - self.__t_end}\")\n",
      "/home/leopaul/mambaforge/envs/zmq/lib/python3.8/site-packages/rtgym/envs/real_time_env.py:376: UserWarning: Time-step timed out. Elapsed since last time-step: 0.04825187301321421\n",
      "  warnings.warn(f\"Time-step timed out. Elapsed since last time-step: {now - self.__t_end}\")\n",
      "/home/leopaul/mambaforge/envs/zmq/lib/python3.8/site-packages/rtgym/envs/real_time_env.py:376: UserWarning: Time-step timed out. Elapsed since last time-step: 0.04588857101043686\n",
      "  warnings.warn(f\"Time-step timed out. Elapsed since last time-step: {now - self.__t_end}\")\n",
      "/home/leopaul/mambaforge/envs/zmq/lib/python3.8/site-packages/rtgym/envs/real_time_env.py:376: UserWarning: Time-step timed out. Elapsed since last time-step: 0.13780315408075694\n",
      "  warnings.warn(f\"Time-step timed out. Elapsed since last time-step: {now - self.__t_end}\")\n",
      "/home/leopaul/mambaforge/envs/zmq/lib/python3.8/site-packages/rtgym/envs/real_time_env.py:376: UserWarning: Time-step timed out. Elapsed since last time-step: 0.062448026015772484\n",
      "  warnings.warn(f\"Time-step timed out. Elapsed since last time-step: {now - self.__t_end}\")\n",
      "/home/leopaul/mambaforge/envs/zmq/lib/python3.8/site-packages/rtgym/envs/real_time_env.py:376: UserWarning: Time-step timed out. Elapsed since last time-step: 0.049081714008934796\n",
      "  warnings.warn(f\"Time-step timed out. Elapsed since last time-step: {now - self.__t_end}\")\n",
      "WARNING:root:RESET\n",
      "/home/leopaul/mambaforge/envs/zmq/lib/python3.8/site-packages/rtgym/envs/real_time_env.py:376: UserWarning: Time-step timed out. Elapsed since last time-step: 0.049207679025130346\n",
      "  warnings.warn(f\"Time-step timed out. Elapsed since last time-step: {now - self.__t_end}\")\n",
      "/home/leopaul/mambaforge/envs/zmq/lib/python3.8/site-packages/rtgym/envs/real_time_env.py:376: UserWarning: Time-step timed out. Elapsed since last time-step: 0.11738088600395713\n",
      "  warnings.warn(f\"Time-step timed out. Elapsed since last time-step: {now - self.__t_end}\")\n",
      "/home/leopaul/mambaforge/envs/zmq/lib/python3.8/site-packages/rtgym/envs/real_time_env.py:376: UserWarning: Time-step timed out. Elapsed since last time-step: 0.04919322310888674\n",
      "  warnings.warn(f\"Time-step timed out. Elapsed since last time-step: {now - self.__t_end}\")\n",
      "/home/leopaul/mambaforge/envs/zmq/lib/python3.8/site-packages/rtgym/envs/real_time_env.py:376: UserWarning: Time-step timed out. Elapsed since last time-step: 0.15104498103028163\n",
      "  warnings.warn(f\"Time-step timed out. Elapsed since last time-step: {now - self.__t_end}\")\n",
      "/home/leopaul/mambaforge/envs/zmq/lib/python3.8/site-packages/rtgym/envs/real_time_env.py:376: UserWarning: Time-step timed out. Elapsed since last time-step: 0.2146861982473638\n",
      "  warnings.warn(f\"Time-step timed out. Elapsed since last time-step: {now - self.__t_end}\")\n",
      "/home/leopaul/mambaforge/envs/zmq/lib/python3.8/site-packages/rtgym/envs/real_time_env.py:376: UserWarning: Time-step timed out. Elapsed since last time-step: 0.09221202903427184\n",
      "  warnings.warn(f\"Time-step timed out. Elapsed since last time-step: {now - self.__t_end}\")\n",
      "WARNING:root:RESET\n",
      "/home/leopaul/mambaforge/envs/zmq/lib/python3.8/site-packages/rtgym/envs/real_time_env.py:376: UserWarning: Time-step timed out. Elapsed since last time-step: 0.1636843031446915\n",
      "  warnings.warn(f\"Time-step timed out. Elapsed since last time-step: {now - self.__t_end}\")\n",
      "/home/leopaul/mambaforge/envs/zmq/lib/python3.8/site-packages/rtgym/envs/real_time_env.py:376: UserWarning: Time-step timed out. Elapsed since last time-step: 0.13414944901887793\n",
      "  warnings.warn(f\"Time-step timed out. Elapsed since last time-step: {now - self.__t_end}\")\n",
      "/home/leopaul/mambaforge/envs/zmq/lib/python3.8/site-packages/rtgym/envs/real_time_env.py:376: UserWarning: Time-step timed out. Elapsed since last time-step: 0.16652376620913856\n",
      "  warnings.warn(f\"Time-step timed out. Elapsed since last time-step: {now - self.__t_end}\")\n",
      "/home/leopaul/mambaforge/envs/zmq/lib/python3.8/site-packages/rtgym/envs/real_time_env.py:376: UserWarning: Time-step timed out. Elapsed since last time-step: 0.11204948202066589\n",
      "  warnings.warn(f\"Time-step timed out. Elapsed since last time-step: {now - self.__t_end}\")\n",
      "WARNING:root:RESET\n",
      "/home/leopaul/mambaforge/envs/zmq/lib/python3.8/site-packages/rtgym/envs/real_time_env.py:376: UserWarning: Time-step timed out. Elapsed since last time-step: 0.1327813720999984\n",
      "  warnings.warn(f\"Time-step timed out. Elapsed since last time-step: {now - self.__t_end}\")\n",
      "/home/leopaul/mambaforge/envs/zmq/lib/python3.8/site-packages/rtgym/envs/real_time_env.py:376: UserWarning: Time-step timed out. Elapsed since last time-step: 0.12508863711263984\n",
      "  warnings.warn(f\"Time-step timed out. Elapsed since last time-step: {now - self.__t_end}\")\n",
      "/home/leopaul/mambaforge/envs/zmq/lib/python3.8/site-packages/rtgym/envs/real_time_env.py:376: UserWarning: Time-step timed out. Elapsed since last time-step: 0.05651273204421159\n",
      "  warnings.warn(f\"Time-step timed out. Elapsed since last time-step: {now - self.__t_end}\")\n",
      "/home/leopaul/mambaforge/envs/zmq/lib/python3.8/site-packages/rtgym/envs/real_time_env.py:376: UserWarning: Time-step timed out. Elapsed since last time-step: 0.062223092099884525\n",
      "  warnings.warn(f\"Time-step timed out. Elapsed since last time-step: {now - self.__t_end}\")\n",
      "/home/leopaul/mambaforge/envs/zmq/lib/python3.8/site-packages/rtgym/envs/real_time_env.py:376: UserWarning: Time-step timed out. Elapsed since last time-step: 0.09523927206464577\n",
      "  warnings.warn(f\"Time-step timed out. Elapsed since last time-step: {now - self.__t_end}\")\n",
      "/home/leopaul/mambaforge/envs/zmq/lib/python3.8/site-packages/rtgym/envs/real_time_env.py:376: UserWarning: Time-step timed out. Elapsed since last time-step: 0.21831386801204644\n",
      "  warnings.warn(f\"Time-step timed out. Elapsed since last time-step: {now - self.__t_end}\")\n"
     ]
    },
    {
     "ename": "KeyboardInterrupt",
     "evalue": "",
     "output_type": "error",
     "traceback": [
      "\u001b[0;31m---------------------------------------------------------------------------\u001b[0m",
      "\u001b[0;31mKeyboardInterrupt\u001b[0m                         Traceback (most recent call last)",
      "Cell \u001b[0;32mIn[24], line 37\u001b[0m\n\u001b[1;32m     25\u001b[0m model \u001b[38;5;241m=\u001b[39m PPO(\u001b[38;5;124m\"\u001b[39m\u001b[38;5;124mMultiInputPolicy\u001b[39m\u001b[38;5;124m\"\u001b[39m,\n\u001b[1;32m     26\u001b[0m             wrapenv,\n\u001b[1;32m     27\u001b[0m             n_steps\u001b[38;5;241m=\u001b[39m\u001b[38;5;241m2048\u001b[39m,\n\u001b[0;32m   (...)\u001b[0m\n\u001b[1;32m     32\u001b[0m             device\u001b[38;5;241m=\u001b[39m\u001b[38;5;124m'\u001b[39m\u001b[38;5;124mcpu\u001b[39m\u001b[38;5;124m'\u001b[39m,\n\u001b[1;32m     33\u001b[0m             tensorboard_log\u001b[38;5;241m=\u001b[39m\u001b[38;5;124m\"\u001b[39m\u001b[38;5;124m./celeste_tensorboard/\u001b[39m\u001b[38;5;124m\"\u001b[39m)\n\u001b[1;32m     35\u001b[0m \u001b[38;5;28;01mfor\u001b[39;00m i \u001b[38;5;129;01min\u001b[39;00m \u001b[38;5;28mrange\u001b[39m(\u001b[38;5;241m10\u001b[39m):\n\u001b[0;32m---> 37\u001b[0m     \u001b[43mmodel\u001b[49m\u001b[38;5;241;43m.\u001b[39;49m\u001b[43mlearn\u001b[49m\u001b[43m(\u001b[49m\u001b[38;5;241;43m100_000\u001b[39;49m\u001b[43m)\u001b[49m\n\u001b[1;32m     39\u001b[0m     model\u001b[38;5;241m.\u001b[39msave(\u001b[38;5;124mf\u001b[39m\u001b[38;5;124m'\u001b[39m\u001b[38;5;124mmodel2_\u001b[39m\u001b[38;5;132;01m{\u001b[39;00mi\u001b[38;5;132;01m}\u001b[39;00m\u001b[38;5;124m.sav\u001b[39m\u001b[38;5;124m'\u001b[39m)\n",
      "File \u001b[0;32m~/mambaforge/envs/zmq/lib/python3.8/site-packages/stable_baselines3/ppo/ppo.py:308\u001b[0m, in \u001b[0;36mPPO.learn\u001b[0;34m(self, total_timesteps, callback, log_interval, tb_log_name, reset_num_timesteps, progress_bar)\u001b[0m\n\u001b[1;32m    299\u001b[0m \u001b[38;5;28;01mdef\u001b[39;00m \u001b[38;5;21mlearn\u001b[39m(\n\u001b[1;32m    300\u001b[0m     \u001b[38;5;28mself\u001b[39m: SelfPPO,\n\u001b[1;32m    301\u001b[0m     total_timesteps: \u001b[38;5;28mint\u001b[39m,\n\u001b[0;32m   (...)\u001b[0m\n\u001b[1;32m    306\u001b[0m     progress_bar: \u001b[38;5;28mbool\u001b[39m \u001b[38;5;241m=\u001b[39m \u001b[38;5;28;01mFalse\u001b[39;00m,\n\u001b[1;32m    307\u001b[0m ) \u001b[38;5;241m-\u001b[39m\u001b[38;5;241m>\u001b[39m SelfPPO:\n\u001b[0;32m--> 308\u001b[0m     \u001b[38;5;28;01mreturn\u001b[39;00m \u001b[38;5;28;43msuper\u001b[39;49m\u001b[43m(\u001b[49m\u001b[43m)\u001b[49m\u001b[38;5;241;43m.\u001b[39;49m\u001b[43mlearn\u001b[49m\u001b[43m(\u001b[49m\n\u001b[1;32m    309\u001b[0m \u001b[43m        \u001b[49m\u001b[43mtotal_timesteps\u001b[49m\u001b[38;5;241;43m=\u001b[39;49m\u001b[43mtotal_timesteps\u001b[49m\u001b[43m,\u001b[49m\n\u001b[1;32m    310\u001b[0m \u001b[43m        \u001b[49m\u001b[43mcallback\u001b[49m\u001b[38;5;241;43m=\u001b[39;49m\u001b[43mcallback\u001b[49m\u001b[43m,\u001b[49m\n\u001b[1;32m    311\u001b[0m \u001b[43m        \u001b[49m\u001b[43mlog_interval\u001b[49m\u001b[38;5;241;43m=\u001b[39;49m\u001b[43mlog_interval\u001b[49m\u001b[43m,\u001b[49m\n\u001b[1;32m    312\u001b[0m \u001b[43m        \u001b[49m\u001b[43mtb_log_name\u001b[49m\u001b[38;5;241;43m=\u001b[39;49m\u001b[43mtb_log_name\u001b[49m\u001b[43m,\u001b[49m\n\u001b[1;32m    313\u001b[0m \u001b[43m        \u001b[49m\u001b[43mreset_num_timesteps\u001b[49m\u001b[38;5;241;43m=\u001b[39;49m\u001b[43mreset_num_timesteps\u001b[49m\u001b[43m,\u001b[49m\n\u001b[1;32m    314\u001b[0m \u001b[43m        \u001b[49m\u001b[43mprogress_bar\u001b[49m\u001b[38;5;241;43m=\u001b[39;49m\u001b[43mprogress_bar\u001b[49m\u001b[43m,\u001b[49m\n\u001b[1;32m    315\u001b[0m \u001b[43m    \u001b[49m\u001b[43m)\u001b[49m\n",
      "File \u001b[0;32m~/mambaforge/envs/zmq/lib/python3.8/site-packages/stable_baselines3/common/on_policy_algorithm.py:259\u001b[0m, in \u001b[0;36mOnPolicyAlgorithm.learn\u001b[0;34m(self, total_timesteps, callback, log_interval, tb_log_name, reset_num_timesteps, progress_bar)\u001b[0m\n\u001b[1;32m    256\u001b[0m \u001b[38;5;28;01massert\u001b[39;00m \u001b[38;5;28mself\u001b[39m\u001b[38;5;241m.\u001b[39menv \u001b[38;5;129;01mis\u001b[39;00m \u001b[38;5;129;01mnot\u001b[39;00m \u001b[38;5;28;01mNone\u001b[39;00m\n\u001b[1;32m    258\u001b[0m \u001b[38;5;28;01mwhile\u001b[39;00m \u001b[38;5;28mself\u001b[39m\u001b[38;5;241m.\u001b[39mnum_timesteps \u001b[38;5;241m<\u001b[39m total_timesteps:\n\u001b[0;32m--> 259\u001b[0m     continue_training \u001b[38;5;241m=\u001b[39m \u001b[38;5;28;43mself\u001b[39;49m\u001b[38;5;241;43m.\u001b[39;49m\u001b[43mcollect_rollouts\u001b[49m\u001b[43m(\u001b[49m\u001b[38;5;28;43mself\u001b[39;49m\u001b[38;5;241;43m.\u001b[39;49m\u001b[43menv\u001b[49m\u001b[43m,\u001b[49m\u001b[43m \u001b[49m\u001b[43mcallback\u001b[49m\u001b[43m,\u001b[49m\u001b[43m \u001b[49m\u001b[38;5;28;43mself\u001b[39;49m\u001b[38;5;241;43m.\u001b[39;49m\u001b[43mrollout_buffer\u001b[49m\u001b[43m,\u001b[49m\u001b[43m \u001b[49m\u001b[43mn_rollout_steps\u001b[49m\u001b[38;5;241;43m=\u001b[39;49m\u001b[38;5;28;43mself\u001b[39;49m\u001b[38;5;241;43m.\u001b[39;49m\u001b[43mn_steps\u001b[49m\u001b[43m)\u001b[49m\n\u001b[1;32m    261\u001b[0m     \u001b[38;5;28;01mif\u001b[39;00m continue_training \u001b[38;5;129;01mis\u001b[39;00m \u001b[38;5;28;01mFalse\u001b[39;00m:\n\u001b[1;32m    262\u001b[0m         \u001b[38;5;28;01mbreak\u001b[39;00m\n",
      "File \u001b[0;32m~/mambaforge/envs/zmq/lib/python3.8/site-packages/stable_baselines3/common/on_policy_algorithm.py:169\u001b[0m, in \u001b[0;36mOnPolicyAlgorithm.collect_rollouts\u001b[0;34m(self, env, callback, rollout_buffer, n_rollout_steps)\u001b[0m\n\u001b[1;32m    166\u001b[0m \u001b[38;5;28;01mwith\u001b[39;00m th\u001b[38;5;241m.\u001b[39mno_grad():\n\u001b[1;32m    167\u001b[0m     \u001b[38;5;66;03m# Convert to pytorch tensor or to TensorDict\u001b[39;00m\n\u001b[1;32m    168\u001b[0m     obs_tensor \u001b[38;5;241m=\u001b[39m obs_as_tensor(\u001b[38;5;28mself\u001b[39m\u001b[38;5;241m.\u001b[39m_last_obs, \u001b[38;5;28mself\u001b[39m\u001b[38;5;241m.\u001b[39mdevice)\n\u001b[0;32m--> 169\u001b[0m     actions, values, log_probs \u001b[38;5;241m=\u001b[39m \u001b[38;5;28;43mself\u001b[39;49m\u001b[38;5;241;43m.\u001b[39;49m\u001b[43mpolicy\u001b[49m\u001b[43m(\u001b[49m\u001b[43mobs_tensor\u001b[49m\u001b[43m)\u001b[49m\n\u001b[1;32m    170\u001b[0m actions \u001b[38;5;241m=\u001b[39m actions\u001b[38;5;241m.\u001b[39mcpu()\u001b[38;5;241m.\u001b[39mnumpy()\n\u001b[1;32m    172\u001b[0m \u001b[38;5;66;03m# Rescale and perform action\u001b[39;00m\n",
      "File \u001b[0;32m~/mambaforge/envs/zmq/lib/python3.8/site-packages/torch/nn/modules/module.py:1501\u001b[0m, in \u001b[0;36mModule._call_impl\u001b[0;34m(self, *args, **kwargs)\u001b[0m\n\u001b[1;32m   1496\u001b[0m \u001b[38;5;66;03m# If we don't have any hooks, we want to skip the rest of the logic in\u001b[39;00m\n\u001b[1;32m   1497\u001b[0m \u001b[38;5;66;03m# this function, and just call forward.\u001b[39;00m\n\u001b[1;32m   1498\u001b[0m \u001b[38;5;28;01mif\u001b[39;00m \u001b[38;5;129;01mnot\u001b[39;00m (\u001b[38;5;28mself\u001b[39m\u001b[38;5;241m.\u001b[39m_backward_hooks \u001b[38;5;129;01mor\u001b[39;00m \u001b[38;5;28mself\u001b[39m\u001b[38;5;241m.\u001b[39m_backward_pre_hooks \u001b[38;5;129;01mor\u001b[39;00m \u001b[38;5;28mself\u001b[39m\u001b[38;5;241m.\u001b[39m_forward_hooks \u001b[38;5;129;01mor\u001b[39;00m \u001b[38;5;28mself\u001b[39m\u001b[38;5;241m.\u001b[39m_forward_pre_hooks\n\u001b[1;32m   1499\u001b[0m         \u001b[38;5;129;01mor\u001b[39;00m _global_backward_pre_hooks \u001b[38;5;129;01mor\u001b[39;00m _global_backward_hooks\n\u001b[1;32m   1500\u001b[0m         \u001b[38;5;129;01mor\u001b[39;00m _global_forward_hooks \u001b[38;5;129;01mor\u001b[39;00m _global_forward_pre_hooks):\n\u001b[0;32m-> 1501\u001b[0m     \u001b[38;5;28;01mreturn\u001b[39;00m \u001b[43mforward_call\u001b[49m\u001b[43m(\u001b[49m\u001b[38;5;241;43m*\u001b[39;49m\u001b[43margs\u001b[49m\u001b[43m,\u001b[49m\u001b[43m \u001b[49m\u001b[38;5;241;43m*\u001b[39;49m\u001b[38;5;241;43m*\u001b[39;49m\u001b[43mkwargs\u001b[49m\u001b[43m)\u001b[49m\n\u001b[1;32m   1502\u001b[0m \u001b[38;5;66;03m# Do not call functions when jit is used\u001b[39;00m\n\u001b[1;32m   1503\u001b[0m full_backward_hooks, non_full_backward_hooks \u001b[38;5;241m=\u001b[39m [], []\n",
      "File \u001b[0;32m~/mambaforge/envs/zmq/lib/python3.8/site-packages/stable_baselines3/common/policies.py:617\u001b[0m, in \u001b[0;36mActorCriticPolicy.forward\u001b[0;34m(self, obs, deterministic)\u001b[0m\n\u001b[1;32m    609\u001b[0m \u001b[38;5;250m\u001b[39m\u001b[38;5;124;03m\"\"\"\u001b[39;00m\n\u001b[1;32m    610\u001b[0m \u001b[38;5;124;03mForward pass in all the networks (actor and critic)\u001b[39;00m\n\u001b[1;32m    611\u001b[0m \n\u001b[0;32m   (...)\u001b[0m\n\u001b[1;32m    614\u001b[0m \u001b[38;5;124;03m:return: action, value and log probability of the action\u001b[39;00m\n\u001b[1;32m    615\u001b[0m \u001b[38;5;124;03m\"\"\"\u001b[39;00m\n\u001b[1;32m    616\u001b[0m \u001b[38;5;66;03m# Preprocess the observation if needed\u001b[39;00m\n\u001b[0;32m--> 617\u001b[0m features \u001b[38;5;241m=\u001b[39m \u001b[38;5;28;43mself\u001b[39;49m\u001b[38;5;241;43m.\u001b[39;49m\u001b[43mextract_features\u001b[49m\u001b[43m(\u001b[49m\u001b[43mobs\u001b[49m\u001b[43m)\u001b[49m\n\u001b[1;32m    618\u001b[0m \u001b[38;5;28;01mif\u001b[39;00m \u001b[38;5;28mself\u001b[39m\u001b[38;5;241m.\u001b[39mshare_features_extractor:\n\u001b[1;32m    619\u001b[0m     latent_pi, latent_vf \u001b[38;5;241m=\u001b[39m \u001b[38;5;28mself\u001b[39m\u001b[38;5;241m.\u001b[39mmlp_extractor(features)\n",
      "File \u001b[0;32m~/mambaforge/envs/zmq/lib/python3.8/site-packages/stable_baselines3/common/policies.py:640\u001b[0m, in \u001b[0;36mActorCriticPolicy.extract_features\u001b[0;34m(self, obs)\u001b[0m\n\u001b[1;32m    633\u001b[0m \u001b[38;5;250m\u001b[39m\u001b[38;5;124;03m\"\"\"\u001b[39;00m\n\u001b[1;32m    634\u001b[0m \u001b[38;5;124;03mPreprocess the observation if needed and extract features.\u001b[39;00m\n\u001b[1;32m    635\u001b[0m \n\u001b[1;32m    636\u001b[0m \u001b[38;5;124;03m:param obs: Observation\u001b[39;00m\n\u001b[1;32m    637\u001b[0m \u001b[38;5;124;03m:return: the output of the features extractor(s)\u001b[39;00m\n\u001b[1;32m    638\u001b[0m \u001b[38;5;124;03m\"\"\"\u001b[39;00m\n\u001b[1;32m    639\u001b[0m \u001b[38;5;28;01mif\u001b[39;00m \u001b[38;5;28mself\u001b[39m\u001b[38;5;241m.\u001b[39mshare_features_extractor:\n\u001b[0;32m--> 640\u001b[0m     \u001b[38;5;28;01mreturn\u001b[39;00m \u001b[38;5;28;43msuper\u001b[39;49m\u001b[43m(\u001b[49m\u001b[43m)\u001b[49m\u001b[38;5;241;43m.\u001b[39;49m\u001b[43mextract_features\u001b[49m\u001b[43m(\u001b[49m\u001b[43mobs\u001b[49m\u001b[43m,\u001b[49m\u001b[43m \u001b[49m\u001b[38;5;28;43mself\u001b[39;49m\u001b[38;5;241;43m.\u001b[39;49m\u001b[43mfeatures_extractor\u001b[49m\u001b[43m)\u001b[49m\n\u001b[1;32m    641\u001b[0m \u001b[38;5;28;01melse\u001b[39;00m:\n\u001b[1;32m    642\u001b[0m     pi_features \u001b[38;5;241m=\u001b[39m \u001b[38;5;28msuper\u001b[39m()\u001b[38;5;241m.\u001b[39mextract_features(obs, \u001b[38;5;28mself\u001b[39m\u001b[38;5;241m.\u001b[39mpi_features_extractor)\n",
      "File \u001b[0;32m~/mambaforge/envs/zmq/lib/python3.8/site-packages/stable_baselines3/common/policies.py:131\u001b[0m, in \u001b[0;36mBaseModel.extract_features\u001b[0;34m(self, obs, features_extractor)\u001b[0m\n\u001b[1;32m    123\u001b[0m \u001b[38;5;250m\u001b[39m\u001b[38;5;124;03m\"\"\"\u001b[39;00m\n\u001b[1;32m    124\u001b[0m \u001b[38;5;124;03mPreprocess the observation if needed and extract features.\u001b[39;00m\n\u001b[1;32m    125\u001b[0m \n\u001b[0;32m   (...)\u001b[0m\n\u001b[1;32m    128\u001b[0m \u001b[38;5;124;03m :return: The extracted features\u001b[39;00m\n\u001b[1;32m    129\u001b[0m \u001b[38;5;124;03m\"\"\"\u001b[39;00m\n\u001b[1;32m    130\u001b[0m preprocessed_obs \u001b[38;5;241m=\u001b[39m preprocess_obs(obs, \u001b[38;5;28mself\u001b[39m\u001b[38;5;241m.\u001b[39mobservation_space, normalize_images\u001b[38;5;241m=\u001b[39m\u001b[38;5;28mself\u001b[39m\u001b[38;5;241m.\u001b[39mnormalize_images)\n\u001b[0;32m--> 131\u001b[0m \u001b[38;5;28;01mreturn\u001b[39;00m \u001b[43mfeatures_extractor\u001b[49m\u001b[43m(\u001b[49m\u001b[43mpreprocessed_obs\u001b[49m\u001b[43m)\u001b[49m\n",
      "File \u001b[0;32m~/mambaforge/envs/zmq/lib/python3.8/site-packages/torch/nn/modules/module.py:1501\u001b[0m, in \u001b[0;36mModule._call_impl\u001b[0;34m(self, *args, **kwargs)\u001b[0m\n\u001b[1;32m   1496\u001b[0m \u001b[38;5;66;03m# If we don't have any hooks, we want to skip the rest of the logic in\u001b[39;00m\n\u001b[1;32m   1497\u001b[0m \u001b[38;5;66;03m# this function, and just call forward.\u001b[39;00m\n\u001b[1;32m   1498\u001b[0m \u001b[38;5;28;01mif\u001b[39;00m \u001b[38;5;129;01mnot\u001b[39;00m (\u001b[38;5;28mself\u001b[39m\u001b[38;5;241m.\u001b[39m_backward_hooks \u001b[38;5;129;01mor\u001b[39;00m \u001b[38;5;28mself\u001b[39m\u001b[38;5;241m.\u001b[39m_backward_pre_hooks \u001b[38;5;129;01mor\u001b[39;00m \u001b[38;5;28mself\u001b[39m\u001b[38;5;241m.\u001b[39m_forward_hooks \u001b[38;5;129;01mor\u001b[39;00m \u001b[38;5;28mself\u001b[39m\u001b[38;5;241m.\u001b[39m_forward_pre_hooks\n\u001b[1;32m   1499\u001b[0m         \u001b[38;5;129;01mor\u001b[39;00m _global_backward_pre_hooks \u001b[38;5;129;01mor\u001b[39;00m _global_backward_hooks\n\u001b[1;32m   1500\u001b[0m         \u001b[38;5;129;01mor\u001b[39;00m _global_forward_hooks \u001b[38;5;129;01mor\u001b[39;00m _global_forward_pre_hooks):\n\u001b[0;32m-> 1501\u001b[0m     \u001b[38;5;28;01mreturn\u001b[39;00m \u001b[43mforward_call\u001b[49m\u001b[43m(\u001b[49m\u001b[38;5;241;43m*\u001b[39;49m\u001b[43margs\u001b[49m\u001b[43m,\u001b[49m\u001b[43m \u001b[49m\u001b[38;5;241;43m*\u001b[39;49m\u001b[38;5;241;43m*\u001b[39;49m\u001b[43mkwargs\u001b[49m\u001b[43m)\u001b[49m\n\u001b[1;32m   1502\u001b[0m \u001b[38;5;66;03m# Do not call functions when jit is used\u001b[39;00m\n\u001b[1;32m   1503\u001b[0m full_backward_hooks, non_full_backward_hooks \u001b[38;5;241m=\u001b[39m [], []\n",
      "File \u001b[0;32m~/celesteRL/celeste_rl/models.py:109\u001b[0m, in \u001b[0;36mCustomCombinedExtractor.forward\u001b[0;34m(self, observations)\u001b[0m\n\u001b[1;32m    106\u001b[0m \u001b[38;5;28;01mfor\u001b[39;00m key, obs \u001b[38;5;129;01min\u001b[39;00m obs_dic\u001b[38;5;241m.\u001b[39mitems():\n\u001b[1;32m    108\u001b[0m     \u001b[38;5;28;01mif\u001b[39;00m key \u001b[38;5;129;01min\u001b[39;00m \u001b[38;5;28mself\u001b[39m\u001b[38;5;241m.\u001b[39mextractors:\n\u001b[0;32m--> 109\u001b[0m         encoded_tensor_list\u001b[38;5;241m.\u001b[39mappend(\u001b[38;5;28;43mself\u001b[39;49m\u001b[38;5;241;43m.\u001b[39;49m\u001b[43mextractors\u001b[49m\u001b[43m[\u001b[49m\u001b[43mkey\u001b[49m\u001b[43m]\u001b[49m\u001b[43m(\u001b[49m\u001b[43mobs\u001b[49m\u001b[43m)\u001b[49m)\n\u001b[1;32m    110\u001b[0m     \u001b[38;5;28;01melse\u001b[39;00m:\n\u001b[1;32m    111\u001b[0m         vector_obs\u001b[38;5;241m.\u001b[39mappend(obs)\n",
      "File \u001b[0;32m~/mambaforge/envs/zmq/lib/python3.8/site-packages/torch/nn/modules/module.py:1501\u001b[0m, in \u001b[0;36mModule._call_impl\u001b[0;34m(self, *args, **kwargs)\u001b[0m\n\u001b[1;32m   1496\u001b[0m \u001b[38;5;66;03m# If we don't have any hooks, we want to skip the rest of the logic in\u001b[39;00m\n\u001b[1;32m   1497\u001b[0m \u001b[38;5;66;03m# this function, and just call forward.\u001b[39;00m\n\u001b[1;32m   1498\u001b[0m \u001b[38;5;28;01mif\u001b[39;00m \u001b[38;5;129;01mnot\u001b[39;00m (\u001b[38;5;28mself\u001b[39m\u001b[38;5;241m.\u001b[39m_backward_hooks \u001b[38;5;129;01mor\u001b[39;00m \u001b[38;5;28mself\u001b[39m\u001b[38;5;241m.\u001b[39m_backward_pre_hooks \u001b[38;5;129;01mor\u001b[39;00m \u001b[38;5;28mself\u001b[39m\u001b[38;5;241m.\u001b[39m_forward_hooks \u001b[38;5;129;01mor\u001b[39;00m \u001b[38;5;28mself\u001b[39m\u001b[38;5;241m.\u001b[39m_forward_pre_hooks\n\u001b[1;32m   1499\u001b[0m         \u001b[38;5;129;01mor\u001b[39;00m _global_backward_pre_hooks \u001b[38;5;129;01mor\u001b[39;00m _global_backward_hooks\n\u001b[1;32m   1500\u001b[0m         \u001b[38;5;129;01mor\u001b[39;00m _global_forward_hooks \u001b[38;5;129;01mor\u001b[39;00m _global_forward_pre_hooks):\n\u001b[0;32m-> 1501\u001b[0m     \u001b[38;5;28;01mreturn\u001b[39;00m \u001b[43mforward_call\u001b[49m\u001b[43m(\u001b[49m\u001b[38;5;241;43m*\u001b[39;49m\u001b[43margs\u001b[49m\u001b[43m,\u001b[49m\u001b[43m \u001b[49m\u001b[38;5;241;43m*\u001b[39;49m\u001b[38;5;241;43m*\u001b[39;49m\u001b[43mkwargs\u001b[49m\u001b[43m)\u001b[49m\n\u001b[1;32m   1502\u001b[0m \u001b[38;5;66;03m# Do not call functions when jit is used\u001b[39;00m\n\u001b[1;32m   1503\u001b[0m full_backward_hooks, non_full_backward_hooks \u001b[38;5;241m=\u001b[39m [], []\n",
      "File \u001b[0;32m~/celesteRL/celeste_rl/models.py:54\u001b[0m, in \u001b[0;36mImprovisedCNN.forward\u001b[0;34m(self, observations)\u001b[0m\n\u001b[1;32m     53\u001b[0m \u001b[38;5;28;01mdef\u001b[39;00m \u001b[38;5;21mforward\u001b[39m(\u001b[38;5;28mself\u001b[39m, observations: th\u001b[38;5;241m.\u001b[39mTensor) \u001b[38;5;241m-\u001b[39m\u001b[38;5;241m>\u001b[39m th\u001b[38;5;241m.\u001b[39mTensor:\n\u001b[0;32m---> 54\u001b[0m     fullinp \u001b[38;5;241m=\u001b[39m th\u001b[38;5;241m.\u001b[39mcat([observations[:, [i,LevelRenderer\u001b[38;5;241m.\u001b[39mID_MAP[\u001b[38;5;124m'\u001b[39m\u001b[38;5;124mPlayer\u001b[39m\u001b[38;5;124m'\u001b[39m]]] \u001b[38;5;28;01mfor\u001b[39;00m i \u001b[38;5;129;01min\u001b[39;00m \u001b[38;5;28mrange\u001b[39m(LevelRenderer\u001b[38;5;241m.\u001b[39mmax_idx\u001b[38;5;241m+\u001b[39m\u001b[38;5;241m1\u001b[39m) \u001b[38;5;28;01mif\u001b[39;00m i \u001b[38;5;241m!=\u001b[39m LevelRenderer\u001b[38;5;241m.\u001b[39mID_MAP[\u001b[38;5;124m'\u001b[39m\u001b[38;5;124mPlayer\u001b[39m\u001b[38;5;124m'\u001b[39m]], dim\u001b[38;5;241m=\u001b[39m\u001b[38;5;241m1\u001b[39m)\n\u001b[1;32m     55\u001b[0m     \u001b[38;5;28;01mreturn\u001b[39;00m \u001b[38;5;28mself\u001b[39m\u001b[38;5;241m.\u001b[39mlinear(\u001b[38;5;28mself\u001b[39m\u001b[38;5;241m.\u001b[39mcnn(fullinp))\n",
      "File \u001b[0;32m~/celesteRL/celeste_rl/models.py:54\u001b[0m, in \u001b[0;36m<listcomp>\u001b[0;34m(.0)\u001b[0m\n\u001b[1;32m     53\u001b[0m \u001b[38;5;28;01mdef\u001b[39;00m \u001b[38;5;21mforward\u001b[39m(\u001b[38;5;28mself\u001b[39m, observations: th\u001b[38;5;241m.\u001b[39mTensor) \u001b[38;5;241m-\u001b[39m\u001b[38;5;241m>\u001b[39m th\u001b[38;5;241m.\u001b[39mTensor:\n\u001b[0;32m---> 54\u001b[0m     fullinp \u001b[38;5;241m=\u001b[39m th\u001b[38;5;241m.\u001b[39mcat([\u001b[43mobservations\u001b[49m\u001b[43m[\u001b[49m\u001b[43m:\u001b[49m\u001b[43m,\u001b[49m\u001b[43m \u001b[49m\u001b[43m[\u001b[49m\u001b[43mi\u001b[49m\u001b[43m,\u001b[49m\u001b[43mLevelRenderer\u001b[49m\u001b[38;5;241;43m.\u001b[39;49m\u001b[43mID_MAP\u001b[49m\u001b[43m[\u001b[49m\u001b[38;5;124;43m'\u001b[39;49m\u001b[38;5;124;43mPlayer\u001b[39;49m\u001b[38;5;124;43m'\u001b[39;49m\u001b[43m]\u001b[49m\u001b[43m]\u001b[49m\u001b[43m]\u001b[49m \u001b[38;5;28;01mfor\u001b[39;00m i \u001b[38;5;129;01min\u001b[39;00m \u001b[38;5;28mrange\u001b[39m(LevelRenderer\u001b[38;5;241m.\u001b[39mmax_idx\u001b[38;5;241m+\u001b[39m\u001b[38;5;241m1\u001b[39m) \u001b[38;5;28;01mif\u001b[39;00m i \u001b[38;5;241m!=\u001b[39m LevelRenderer\u001b[38;5;241m.\u001b[39mID_MAP[\u001b[38;5;124m'\u001b[39m\u001b[38;5;124mPlayer\u001b[39m\u001b[38;5;124m'\u001b[39m]], dim\u001b[38;5;241m=\u001b[39m\u001b[38;5;241m1\u001b[39m)\n\u001b[1;32m     55\u001b[0m     \u001b[38;5;28;01mreturn\u001b[39;00m \u001b[38;5;28mself\u001b[39m\u001b[38;5;241m.\u001b[39mlinear(\u001b[38;5;28mself\u001b[39m\u001b[38;5;241m.\u001b[39mcnn(fullinp))\n",
      "\u001b[0;31mKeyboardInterrupt\u001b[0m: "
     ]
    }
   ],
   "source": [
    "# In[10]:\n",
    "\n",
    "my_config = DEFAULT_CONFIG_DICT\n",
    "my_config[\"interface\"] = CelesteGym\n",
    "my_config[\"time_step_duration\"] = 0.04\n",
    "my_config[\"start_obs_capture\"] = 0.04\n",
    "my_config[\"time_step_timeout_factor\"] = 1.0\n",
    "my_config[\"ep_max_length\"] = 1_000_000\n",
    "my_config[\"act_buf_len\"] = 4\n",
    "my_config[\"reset_act_buf\"] = False\n",
    "my_config[\"benchmark\"] = True\n",
    "my_config[\"benchmark_polyak\"] = 0.2\n",
    "\n",
    "run = wandb.init(\n",
    "    project=\"celesterl\",\n",
    "    config=my_config,\n",
    "    sync_tensorboard=True,  # auto-upload sb3's tensorboard metrics\n",
    "    monitor_gym=True,  # auto-upload the videos of agents playing the game\n",
    "    save_code=True,  # optional\n",
    ")\n",
    "\n",
    "env = gymnasium.make(\"real-time-gym-v1\", config=my_config)\n",
    "\n",
    "wrapenv = Monitor(FlattenerEnv(env))\n",
    "model = PPO(\"MultiInputPolicy\",\n",
    "            wrapenv,\n",
    "            n_steps=2048,\n",
    "            learning_rate=5e-3,\n",
    "            policy_kwargs=dict(normalize_images=False,\n",
    "                              features_extractor_class=CustomCombinedExtractor),\n",
    "            verbose=1,\n",
    "            device='cpu',\n",
    "            tensorboard_log=\"./celeste_tensorboard/\")\n",
    "\n",
    "for i in range(10):\n",
    "\n",
    "    model.learn(100_000)\n",
    "    \n",
    "    model.save(f'model2_{i}.sav')\n",
    "\n"
   ]
  },
  {
   "cell_type": "code",
   "execution_count": null,
   "id": "704e225d-684c-411a-a4e7-bbdde7f081bc",
   "metadata": {},
   "outputs": [],
   "source": []
  },
  {
   "cell_type": "code",
   "execution_count": null,
   "id": "2f67437f-0ab8-490c-8e83-c86d3ca2be53",
   "metadata": {},
   "outputs": [],
   "source": []
  }
 ],
 "metadata": {
  "kernelspec": {
   "display_name": "Python 3 (ipykernel)",
   "language": "python",
   "name": "python3"
  },
  "language_info": {
   "codemirror_mode": {
    "name": "ipython",
    "version": 3
   },
   "file_extension": ".py",
   "mimetype": "text/x-python",
   "name": "python",
   "nbconvert_exporter": "python",
   "pygments_lexer": "ipython3",
   "version": "3.8.0"
  }
 },
 "nbformat": 4,
 "nbformat_minor": 5
}
