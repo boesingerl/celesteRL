{
 "cells": [
  {
   "cell_type": "code",
   "execution_count": 3,
   "id": "a4e1cce5-e49f-432c-bd40-39fa1e0d2767",
   "metadata": {
    "tags": []
   },
   "outputs": [
    {
     "name": "stdout",
     "output_type": "stream",
     "text": [
      "The autoreload extension is already loaded. To reload it, use:\n",
      "  %reload_ext autoreload\n"
     ]
    },
    {
     "ename": "ModuleNotFoundError",
     "evalue": "No module named 'jax'",
     "output_type": "error",
     "traceback": [
      "\u001b[0;31m---------------------------------------------------------------------------\u001b[0m",
      "\u001b[0;31mModuleNotFoundError\u001b[0m                       Traceback (most recent call last)",
      "Cell \u001b[0;32mIn[3], line 9\u001b[0m\n\u001b[1;32m      6\u001b[0m sys\u001b[38;5;241m.\u001b[39mpath \u001b[38;5;241m+\u001b[39m\u001b[38;5;241m=\u001b[39m [\u001b[38;5;124m'\u001b[39m\u001b[38;5;124mdreamerv3\u001b[39m\u001b[38;5;124m'\u001b[39m]\n\u001b[1;32m      8\u001b[0m \u001b[38;5;28;01mimport\u001b[39;00m \u001b[38;5;21;01mwarnings\u001b[39;00m\n\u001b[0;32m----> 9\u001b[0m \u001b[38;5;28;01mimport\u001b[39;00m \u001b[38;5;21;01mdreamerv3\u001b[39;00m\n\u001b[1;32m     10\u001b[0m \u001b[38;5;28;01mfrom\u001b[39;00m \u001b[38;5;21;01mdreamerv3\u001b[39;00m \u001b[38;5;28;01mimport\u001b[39;00m embodied\n\u001b[1;32m     11\u001b[0m warnings\u001b[38;5;241m.\u001b[39mfilterwarnings(\u001b[38;5;124m'\u001b[39m\u001b[38;5;124mignore\u001b[39m\u001b[38;5;124m'\u001b[39m, \u001b[38;5;124m'\u001b[39m\u001b[38;5;124m.*truncated to dtype int32.*\u001b[39m\u001b[38;5;124m'\u001b[39m)\n",
      "File \u001b[0;32m~/celeste-tests/celeste/Mods/celesteRL/dreamerv3/dreamerv3/__init__.py:4\u001b[0m\n\u001b[1;32m      1\u001b[0m \u001b[38;5;28;01mimport\u001b[39;00m \u001b[38;5;21;01msys\u001b[39;00m\u001b[38;5;241m,\u001b[39m \u001b[38;5;21;01mpathlib\u001b[39;00m\n\u001b[1;32m      2\u001b[0m sys\u001b[38;5;241m.\u001b[39mpath\u001b[38;5;241m.\u001b[39mappend(\u001b[38;5;28mstr\u001b[39m(pathlib\u001b[38;5;241m.\u001b[39mPath(\u001b[38;5;18m__file__\u001b[39m)\u001b[38;5;241m.\u001b[39mparent))\n\u001b[0;32m----> 4\u001b[0m \u001b[38;5;28;01mfrom\u001b[39;00m \u001b[38;5;21;01m.\u001b[39;00m\u001b[38;5;21;01magent\u001b[39;00m \u001b[38;5;28;01mimport\u001b[39;00m Agent\n\u001b[1;32m      5\u001b[0m configs \u001b[38;5;241m=\u001b[39m Agent\u001b[38;5;241m.\u001b[39mconfigs\n\u001b[1;32m      6\u001b[0m \u001b[38;5;28;01mfrom\u001b[39;00m \u001b[38;5;21;01m.\u001b[39;00m\u001b[38;5;21;01mtrain\u001b[39;00m \u001b[38;5;28;01mimport\u001b[39;00m wrap_env\n",
      "File \u001b[0;32m~/celeste-tests/celeste/Mods/celesteRL/dreamerv3/dreamerv3/agent.py:2\u001b[0m\n\u001b[1;32m      1\u001b[0m \u001b[38;5;28;01mimport\u001b[39;00m \u001b[38;5;21;01membodied\u001b[39;00m\n\u001b[0;32m----> 2\u001b[0m \u001b[38;5;28;01mimport\u001b[39;00m \u001b[38;5;21;01mjax\u001b[39;00m\n\u001b[1;32m      3\u001b[0m \u001b[38;5;28;01mimport\u001b[39;00m \u001b[38;5;21;01mjax\u001b[39;00m\u001b[38;5;21;01m.\u001b[39;00m\u001b[38;5;21;01mnumpy\u001b[39;00m \u001b[38;5;28;01mas\u001b[39;00m \u001b[38;5;21;01mjnp\u001b[39;00m\n\u001b[1;32m      4\u001b[0m \u001b[38;5;28;01mimport\u001b[39;00m \u001b[38;5;21;01mruamel\u001b[39;00m\u001b[38;5;21;01m.\u001b[39;00m\u001b[38;5;21;01myaml\u001b[39;00m \u001b[38;5;28;01mas\u001b[39;00m \u001b[38;5;21;01myaml\u001b[39;00m\n",
      "\u001b[0;31mModuleNotFoundError\u001b[0m: No module named 'jax'"
     ]
    }
   ],
   "source": [
    "%load_ext autoreload\n",
    "%autoreload 2\n",
    "\n",
    "import sys\n",
    "\n",
    "sys.path += ['dreamerv3']\n",
    "\n",
    "import warnings\n",
    "import dreamerv3\n",
    "from dreamerv3 import embodied\n",
    "warnings.filterwarnings('ignore', '.*truncated to dtype int32.*')\n",
    "\n",
    "# See configs.yaml for all options.\n",
    "config = embodied.Config(dreamerv3.configs['defaults'])\n",
    "config = config.update(dreamerv3.configs['medium'])\n",
    "config = config.update({\n",
    "  'logdir': '~/logdir/run1',\n",
    "  'run.train_ratio': 64,\n",
    "  'run.log_every': 30,  # Seconds\n",
    "  'batch_size': 16,\n",
    "  'jax.prealloc': False,\n",
    "  'encoder.mlp_keys': '$^',\n",
    "  'decoder.mlp_keys': '$^',\n",
    "  'encoder.cnn_keys': 'image',\n",
    "  'decoder.cnn_keys': 'image',\n",
    "  # 'jax.platform': 'cpu',\n",
    "})\n",
    "config = embodied.Flags(config).parse()\n",
    "\n",
    "logdir = embodied.Path(config.logdir)\n",
    "step = embodied.Counter()\n",
    "logger = embodied.Logger(step, [\n",
    "  embodied.logger.TerminalOutput(),\n",
    "  embodied.logger.JSONLOutput(logdir, 'metrics.jsonl'),\n",
    "  embodied.logger.TensorBoardOutput(logdir),\n",
    "  # embodied.logger.WandBOutput(logdir.name, config),\n",
    "  # embodied.logger.MLFlowOutput(logdir.name),\n",
    "])\n"
   ]
  },
  {
   "cell_type": "code",
   "execution_count": 2,
   "id": "754282ff-b188-4d64-b23b-d2c501055068",
   "metadata": {
    "tags": []
   },
   "outputs": [
    {
     "name": "stdout",
     "output_type": "stream",
     "text": [
      "jax-jumpy                1.0.0\n",
      "Note: you may need to restart the kernel to use updated packages.\n"
     ]
    }
   ],
   "source": [
    "pip list | grep jax"
   ]
  },
  {
   "cell_type": "code",
   "execution_count": null,
   "id": "bf018f8d-594a-40e3-9e67-e9baa5519aed",
   "metadata": {},
   "outputs": [],
   "source": [
    "import crafter\n",
    "from embodied.envs import from_gym\n",
    "\n",
    "env = crafter.Env()  # Replace this with your Gym env.\n",
    "env = from_gym.FromGym(env, obs_key='image')  # Or obs_key='vector'.\n",
    "env = dreamerv3.wrap_env(env, config)\n",
    "env = embodied.BatchEnv([env], parallel=False)\n",
    "\n",
    "agent = dreamerv3.Agent(env.obs_space, env.act_space, step, config)\n",
    "replay = embodied.replay.Uniform(\n",
    "  config.batch_length, config.replay_size, logdir / 'replay')\n",
    "args = embodied.Config(\n",
    "  **config.run, logdir=config.logdir,\n",
    "  batch_steps=config.batch_size * config.batch_length)\n",
    "embodied.run.train(agent, env, replay, logger, args)\n",
    "# embodied.run.eval_only(agent, env, logger, args)\n"
   ]
  }
 ],
 "metadata": {
  "kernelspec": {
   "display_name": "Python 3 (ipykernel)",
   "language": "python",
   "name": "python3"
  },
  "language_info": {
   "codemirror_mode": {
    "name": "ipython",
    "version": 3
   },
   "file_extension": ".py",
   "mimetype": "text/x-python",
   "name": "python",
   "nbconvert_exporter": "python",
   "pygments_lexer": "ipython3",
   "version": "3.10.6"
  }
 },
 "nbformat": 4,
 "nbformat_minor": 5
}
